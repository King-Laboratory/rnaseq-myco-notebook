{
 "cells": [
  {
   "cell_type": "markdown",
   "id": "99cfa998-06b6-4b42-ae3a-b4e011750d31",
   "metadata": {},
   "source": [
    "# RNA-Seq Analysis Training Demo (Snakemake)"
   ]
  },
  {
   "cell_type": "markdown",
   "id": "4126cb07-34ee-4780-838f-872015a882b3",
   "metadata": {},
   "source": [
    "## Overview"
   ]
  },
  {
   "cell_type": "markdown",
   "id": "f15ea992-faa6-4705-8384-eb5d81f5daff",
   "metadata": {},
   "source": [
    "This short tutorial demonstrates how to run an RNA-Seq workflow using a prokaryotic data set. Steps in the workflow include read trimming, read QC, read mapping, and counting mapped reads per gene to quantitate gene expression. This tutorial uses a popular workflow manager called 'snakemake'. More information on snakemake can be found <a href=\"https://snakemake.readthedocs.io/en/stable/\">here</a>. Running the code in this tutorial will take approximately 12 minutes.\n",
    "\n",
    "![RNA-Seq workflow](images/rnaseq-workflow.png)"
   ]
  },
  {
   "cell_type": "markdown",
   "id": "dd7ab630-955d-43d1-bc43-c7b3e701ed04",
   "metadata": {
    "tags": []
   },
   "source": [
    "### STEP 1: Install mambaforge and snakemake\n",
    "First install mambaforge.\n",
    "\n",
    "We will use it to install snakemake, as well as create a snakemake environment using mambaforge."
   ]
  },
  {
   "cell_type": "code",
   "execution_count": null,
   "id": "682ddf88-e1d9-443f-a423-e1f85ff604a2",
   "metadata": {},
   "outputs": [],
   "source": [
    "!curl -L -O https://github.com/conda-forge/miniforge/releases/latest/download/Mambaforge-$(uname)-$(uname -m).sh\n",
    "!bash Mambaforge-$(uname)-$(uname -m).sh -b -p $HOME/mambaforge"
   ]
  },
  {
   "cell_type": "code",
   "execution_count": 2,
   "id": "31ae472f-4278-4c7e-ae8b-7e186b6a4f81",
   "metadata": {},
   "outputs": [],
   "source": [
    "#add to your path\n",
    "import os\n",
    "os.environ[\"PATH\"] += os.pathsep + os.environ[\"HOME\"]+\"/mambaforge/bin\""
   ]
  },
  {
   "cell_type": "code",
   "execution_count": 3,
   "id": "dc76ab67-e53b-401a-9a70-db2cb9315d5b",
   "metadata": {
    "scrolled": true,
    "tags": []
   },
   "outputs": [
    {
     "name": "stdout",
     "output_type": "stream",
     "text": [
      "\n",
      "                  __    __    __    __\n",
      "                 /  \\  /  \\  /  \\  /  \\\n",
      "                /    \\/    \\/    \\/    \\\n",
      "███████████████/  /██/  /██/  /██/  /████████████████████████\n",
      "              /  / \\   / \\   / \\   / \\  \\____\n",
      "             /  /   \\_/   \\_/   \\_/   \\    o \\__,\n",
      "            / _/                       \\_____/  `\n",
      "            |/\n",
      "        ███╗   ███╗ █████╗ ███╗   ███╗██████╗  █████╗\n",
      "        ████╗ ████║██╔══██╗████╗ ████║██╔══██╗██╔══██╗\n",
      "        ██╔████╔██║███████║██╔████╔██║██████╔╝███████║\n",
      "        ██║╚██╔╝██║██╔══██║██║╚██╔╝██║██╔══██╗██╔══██║\n",
      "        ██║ ╚═╝ ██║██║  ██║██║ ╚═╝ ██║██████╔╝██║  ██║\n",
      "        ╚═╝     ╚═╝╚═╝  ╚═╝╚═╝     ╚═╝╚═════╝ ╚═╝  ╚═╝\n",
      "\n",
      "        mamba (1.4.2) supported by @QuantStack\n",
      "\n",
      "        GitHub:  https://github.com/mamba-org/mamba\n",
      "        Twitter: https://twitter.com/QuantStack\n",
      "\n",
      "█████████████████████████████████████████████████████████████\n",
      "\n",
      "\n",
      "Looking for: ['snakemake']\n",
      "\n",
      "\u001b[?25l\u001b[2K\u001b[0G[+] 0.0s\n",
      "\u001b[2K\u001b[1A\u001b[2K\u001b[0G[+] 0.1s\n",
      "conda-forge/linux-64 \u001b[90m━━╸\u001b[0m\u001b[33m━━━━━━━━━━━━━━━╸\u001b[0m\u001b[90m━━━━\u001b[0m   0.0 B /  ??.?MB @  ??.?MB/s  0.1s\n",
      "conda-forge/noarch   \u001b[90m╸\u001b[0m\u001b[33m━━━━━━━━━━━━━━━╸\u001b[0m\u001b[90m━━━━━━\u001b[0m   0.0 B /  ??.?MB @  ??.?MB/s  0.1s\n",
      "bioconda/linux-64    \u001b[33m━━━━━━━━━╸\u001b[0m\u001b[90m━━━━━━━━━━━━━\u001b[0m   0.0 B /  ??.?MB @  ??.?MB/s  0.1s\n",
      "bioconda/noarch      \u001b[33m━━━━━━━━╸\u001b[0m\u001b[90m━━━━━━━━━━━━━━\u001b[0m   0.0 B /  ??.?MB @  ??.?MB/s  0.1s\n",
      "pkgs/main/linux-64   \u001b[90m━━━━━━╸\u001b[0m\u001b[33m━━━━━━━━━━━━━━━━\u001b[0m   0.0 B /  ??.?MB @  ??.?MB/s  0.1s\u001b[2K\u001b[1A\u001b[2K\u001b[1A\u001b[2K\u001b[1A\u001b[2K\u001b[1A\u001b[2K\u001b[1A\u001b[2K\u001b[0G[+] 0.2s\n",
      "conda-forge/linux-64 \u001b[90m━━╸\u001b[0m\u001b[33m━━━━━━━━━━━━━━━╸\u001b[0m\u001b[90m━━━━\u001b[0m   0.0 B /  ??.?MB @  ??.?MB/s  0.2s\n",
      "conda-forge/noarch   \u001b[90m╸\u001b[0m\u001b[33m━━━━━━━━━━━━━━━╸\u001b[0m\u001b[90m━━━━━━\u001b[0m   0.0 B /  ??.?MB @  ??.?MB/s  0.2s\n",
      "bioconda/linux-64    \u001b[33m━━━━━━━━━╸\u001b[0m\u001b[90m━━━━━━━━━━━━━\u001b[0m   0.0 B /  ??.?MB @  ??.?MB/s  0.2s\n",
      "bioconda/noarch      \u001b[33m━━━━━━━━╸\u001b[0m\u001b[90m━━━━━━━━━━━━━━\u001b[0m   0.0 B /  ??.?MB @  ??.?MB/s  0.2s\n",
      "pkgs/main/linux-64   \u001b[90m━━━━━━╸\u001b[0m\u001b[33m━━━━━━━━━━━━━━━━\u001b[0m   0.0 B /  ??.?MB @  ??.?MB/s  0.2s\u001b[2K\u001b[1A\u001b[2K\u001b[1A\u001b[2K\u001b[1A\u001b[2K\u001b[1A\u001b[2K\u001b[1A\u001b[2K\u001b[0Gpkgs/main/linux-64                                            No change\n",
      "pkgs/r/noarch                                                 No change\n",
      "bioconda/linux-64                                             No change\n",
      "[+] 0.3s\n",
      "conda-forge/linux-64 \u001b[90m━━━━━╸\u001b[0m\u001b[33m━━━━━━━━━━━━━━━╸\u001b[0m\u001b[90m━\u001b[0m   0.0 B /  ??.?MB @  ??.?MB/s  0.3s\n",
      "conda-forge/noarch   \u001b[90m━━━╸\u001b[0m\u001b[33m━━━━━━━━━━━━━━━╸\u001b[0m\u001b[90m━━━\u001b[0m  15.0 B /  ??.?MB @  53.0 B/s  0.3s\n",
      "bioconda/noarch      \u001b[33m━━━━━━━━━━╸\u001b[0m\u001b[90m━━━━━━━━━━━━\u001b[0m   0.0 B /  ??.?MB @  ??.?MB/s  0.3s\n",
      "pkgs/main/noarch     \u001b[33m━━━━━━━━━━━━╸\u001b[0m\u001b[90m━━━━━━━━━━\u001b[0m   0.0 B /  ??.?MB @  ??.?MB/s  0.0s\n",
      "pkgs/r/linux-64      \u001b[90m━━━━━╸\u001b[0m\u001b[33m━━━━━━━━━━━━━━━╸\u001b[0m\u001b[90m━\u001b[0m   0.0 B /  ??.?MB @  ??.?MB/s  0.0s\u001b[2K\u001b[1A\u001b[2K\u001b[1A\u001b[2K\u001b[1A\u001b[2K\u001b[1A\u001b[2K\u001b[1A\u001b[2K\u001b[0Gpkgs/main/noarch                                              No change\n",
      "pkgs/r/linux-64                                               No change\n",
      "[+] 0.4s\n",
      "conda-forge/linux-64 \u001b[90m━━━━━━━╸\u001b[0m\u001b[33m━━━━━━━━━━━━━━━\u001b[0m 645.9kB /  ??.?MB @   1.7MB/s  0.4s\n",
      "conda-forge/noarch   \u001b[90m━━━━━╸\u001b[0m\u001b[33m━━━━━━━━━━━━━━━╸\u001b[0m\u001b[90m━\u001b[0m 758.9kB /  ??.?MB @   2.0MB/s  0.4s\n",
      "bioconda/noarch      \u001b[33m━━━━━━━━━━━━╸\u001b[0m\u001b[90m━━━━━━━━━━\u001b[0m 321.7kB /  ??.?MB @ 849.3kB/s  0.4s\u001b[2K\u001b[1A\u001b[2K\u001b[1A\u001b[2K\u001b[1A\u001b[2K\u001b[0G[+] 0.5s\n",
      "conda-forge/linux-64 \u001b[90m━━━━━━━━━╸\u001b[0m\u001b[33m━━━━━━━━━━━━━\u001b[0m   1.4MB /  ??.?MB @   2.9MB/s  0.5s\n",
      "conda-forge/noarch   \u001b[90m━━━━━━━╸\u001b[0m\u001b[33m━━━━━━━━━━━━━━━\u001b[0m   1.6MB /  ??.?MB @   3.3MB/s  0.5s\n",
      "bioconda/noarch      \u001b[33m━━━━━━━━━━━━━━╸\u001b[0m\u001b[90m━━━━━━━━\u001b[0m 759.8kB /  ??.?MB @   1.6MB/s  0.5s\u001b[2K\u001b[1A\u001b[2K\u001b[1A\u001b[2K\u001b[1A\u001b[2K\u001b[0G[+] 0.6s\n",
      "conda-forge/linux-64 \u001b[90m━━━━━━━━━━━╸\u001b[0m\u001b[33m━━━━━━━━━━━\u001b[0m   2.1MB /  ??.?MB @   3.6MB/s  0.6s\n",
      "conda-forge/noarch   \u001b[90m━━━━━━━━━╸\u001b[0m\u001b[33m━━━━━━━━━━━━━\u001b[0m   2.3MB /  ??.?MB @   4.0MB/s  0.6s\n",
      "bioconda/noarch      \u001b[90m╸\u001b[0m\u001b[33m━━━━━━━━━━━━━━━╸\u001b[0m\u001b[90m━━━━━━\u001b[0m   1.0MB /  ??.?MB @   1.8MB/s  0.6s\u001b[2K\u001b[1A\u001b[2K\u001b[1A\u001b[2K\u001b[1A\u001b[2K\u001b[0G[+] 0.7s\n",
      "conda-forge/linux-64 \u001b[33m━━━━━━━╸\u001b[0m\u001b[90m━━━━━━━━━━━━━━━\u001b[0m   2.9MB /  ??.?MB @   4.2MB/s  0.7s\n",
      "conda-forge/noarch   \u001b[90m━━━━━━━━━━━╸\u001b[0m\u001b[33m━━━━━━━━━━━\u001b[0m   2.9MB /  ??.?MB @   4.3MB/s  0.7s\n",
      "bioconda/noarch      \u001b[90m━━━╸\u001b[0m\u001b[33m━━━━━━━━━━━━━━━╸\u001b[0m\u001b[90m━━━\u001b[0m   1.5MB /  ??.?MB @   2.1MB/s  0.7s\u001b[2K\u001b[1A\u001b[2K\u001b[1A\u001b[2K\u001b[1A\u001b[2K\u001b[0G[+] 0.8s\n",
      "conda-forge/linux-64 \u001b[33m━━━━━━━━━━╸\u001b[0m\u001b[90m━━━━━━━━━━━━\u001b[0m   3.6MB /  ??.?MB @   4.6MB/s  0.8s\n",
      "conda-forge/noarch   \u001b[33m━━━━━━━━╸\u001b[0m\u001b[90m━━━━━━━━━━━━━━\u001b[0m   3.6MB /  ??.?MB @   4.6MB/s  0.8s\n",
      "bioconda/noarch      \u001b[90m━━━━━╸\u001b[0m\u001b[33m━━━━━━━━━━━━━━━╸\u001b[0m\u001b[90m━\u001b[0m   1.9MB /  ??.?MB @   2.5MB/s  0.8s\u001b[2K\u001b[1A\u001b[2K\u001b[1A\u001b[2K\u001b[1A\u001b[2K\u001b[0G[+] 0.9s\n",
      "conda-forge/linux-64 \u001b[33m━━━━━━━━━━━━╸\u001b[0m\u001b[90m━━━━━━━━━━\u001b[0m   4.2MB /  ??.?MB @   4.7MB/s  0.9s\n",
      "conda-forge/noarch   \u001b[33m━━━━━━━━━━╸\u001b[0m\u001b[90m━━━━━━━━━━━━\u001b[0m   4.4MB /  ??.?MB @   5.0MB/s  0.9s\n",
      "bioconda/noarch      \u001b[90m━━━━━━━╸\u001b[0m\u001b[33m━━━━━━━━━━━━━━━\u001b[0m   2.3MB /  ??.?MB @   2.6MB/s  0.9s\u001b[2K\u001b[1A\u001b[2K\u001b[1A\u001b[2K\u001b[1A\u001b[2K\u001b[0G[+] 1.0s\n",
      "conda-forge/linux-64 \u001b[33m━━━━━━━━━━━━━━╸\u001b[0m\u001b[90m━━━━━━━━\u001b[0m   4.9MB /  ??.?MB @   5.0MB/s  1.0s\n",
      "conda-forge/noarch   \u001b[33m━━━━━━━━━━━━╸\u001b[0m\u001b[90m━━━━━━━━━━\u001b[0m   5.1MB /  ??.?MB @   5.2MB/s  1.0s\n",
      "bioconda/noarch      \u001b[90m━━━━━━━━━╸\u001b[0m\u001b[33m━━━━━━━━━━━━━\u001b[0m   2.7MB /  ??.?MB @   2.7MB/s  1.0s\u001b[2K\u001b[1A\u001b[2K\u001b[1A\u001b[2K\u001b[1A\u001b[2K\u001b[0G[+] 1.1s\n",
      "conda-forge/linux-64 \u001b[90m╸\u001b[0m\u001b[33m━━━━━━━━━━━━━━━╸\u001b[0m\u001b[90m━━━━━━\u001b[0m   5.5MB /  ??.?MB @   5.1MB/s  1.1s\n",
      "conda-forge/noarch   \u001b[33m━━━━━━━━━━━━━━╸\u001b[0m\u001b[90m━━━━━━━━\u001b[0m   5.9MB /  ??.?MB @   5.4MB/s  1.1s\n",
      "bioconda/noarch      \u001b[90m━━━━━━━━━━━╸\u001b[0m\u001b[33m━━━━━━━━━━━\u001b[0m   3.1MB /  ??.?MB @   2.9MB/s  1.1s\u001b[2K\u001b[1A\u001b[2K\u001b[1A\u001b[2K\u001b[1A\u001b[2K\u001b[0G[+] 1.2s\n",
      "conda-forge/linux-64 \u001b[90m━━╸\u001b[0m\u001b[33m━━━━━━━━━━━━━━━╸\u001b[0m\u001b[90m━━━━\u001b[0m   6.3MB /  ??.?MB @   5.4MB/s  1.2s\n",
      "conda-forge/noarch   \u001b[90m╸\u001b[0m\u001b[33m━━━━━━━━━━━━━━━╸\u001b[0m\u001b[90m━━━━━━\u001b[0m   6.8MB /  ??.?MB @   5.7MB/s  1.2s\n",
      "bioconda/noarch      \u001b[33m━━━━━━━━╸\u001b[0m\u001b[90m━━━━━━━━━━━━━━\u001b[0m   3.6MB /  ??.?MB @   3.0MB/s  1.2s\u001b[2K\u001b[1A\u001b[2K\u001b[1A\u001b[2K\u001b[1A\u001b[2K\u001b[0G[+] 1.3s\n",
      "conda-forge/linux-64 \u001b[90m━━━━━╸\u001b[0m\u001b[33m━━━━━━━━━━━━━━━╸\u001b[0m\u001b[90m━\u001b[0m   7.3MB /  ??.?MB @   5.7MB/s  1.3s\n",
      "conda-forge/noarch   \u001b[90m━━━╸\u001b[0m\u001b[33m━━━━━━━━━━━━━━━╸\u001b[0m\u001b[90m━━━\u001b[0m   7.3MB /  ??.?MB @   5.7MB/s  1.3s\n",
      "bioconda/noarch      \u001b[33m━━━━━━━━━━╸\u001b[0m\u001b[90m━━━━━━━━━━━━\u001b[0m   4.0MB /  ??.?MB @   3.1MB/s  1.3s\u001b[2K\u001b[1A\u001b[2K\u001b[1A\u001b[2K\u001b[1A\u001b[2K\u001b[0G[+] 1.4s\n",
      "conda-forge/linux-64 \u001b[90m━━━━━━━╸\u001b[0m\u001b[33m━━━━━━━━━━━━━━━\u001b[0m   7.7MB /  ??.?MB @   5.6MB/s  1.4s\n",
      "conda-forge/noarch   \u001b[90m━━━━━╸\u001b[0m\u001b[33m━━━━━━━━━━━━━━━╸\u001b[0m\u001b[90m━\u001b[0m   8.0MB /  ??.?MB @   5.7MB/s  1.4s\n",
      "bioconda/noarch      \u001b[33m━━━━━━━━━━━━╸\u001b[0m\u001b[90m━━━━━━━━━━\u001b[0m   4.4MB /  ??.?MB @   3.2MB/s  1.4s\u001b[2K\u001b[1A\u001b[2K\u001b[1A\u001b[2K\u001b[1A\u001b[2K\u001b[0G[+] 1.5s\n",
      "conda-forge/linux-64 \u001b[90m━━━━━━━━╸\u001b[0m\u001b[33m━━━━━━━━━━━━━━\u001b[0m   7.9MB /  ??.?MB @   5.5MB/s  1.5s\n",
      "conda-forge/noarch   \u001b[90m━━━━━━╸\u001b[0m\u001b[33m━━━━━━━━━━━━━━━━\u001b[0m   8.3MB /  ??.?MB @   5.8MB/s  1.5s\n",
      "bioconda/noarch      \u001b[33m━━━━━━━━━━━━━╸\u001b[0m\u001b[90m━━━━━━━━━\u001b[0m   4.6MB /  ??.?MB @   3.2MB/s  1.5s\u001b[2K\u001b[1A\u001b[2K\u001b[1A\u001b[2K\u001b[1A\u001b[2K\u001b[0G[+] 1.6s\n",
      "conda-forge/linux-64 \u001b[90m━━━━━━━━╸\u001b[0m\u001b[33m━━━━━━━━━━━━━━\u001b[0m   7.9MB /  ??.?MB @   5.5MB/s  1.6s\n",
      "conda-forge/noarch   \u001b[90m━━━━━━╸\u001b[0m\u001b[33m━━━━━━━━━━━━━━━━\u001b[0m   8.3MB /  ??.?MB @   5.8MB/s  1.6s\n",
      "bioconda/noarch      \u001b[33m━━━━━━━━━━━━━╸\u001b[0m\u001b[90m━━━━━━━━━\u001b[0m   4.6MB /  ??.?MB @   3.2MB/s  1.6s\u001b[2K\u001b[1A\u001b[2K\u001b[1A\u001b[2K\u001b[1A\u001b[2K\u001b[0G[+] 1.7s\n",
      "conda-forge/linux-64 \u001b[90m━━━━━━━╸\u001b[0m\u001b[33m━━━━━━━━━━━━━━\u001b[0m   7.9MB @   5.5MB/s             1.7s\n",
      "conda-forge/noarch   \u001b[90m━━━━━╸\u001b[0m\u001b[33m━━━━━━━━━━━━━━━━\u001b[0m   8.3MB @   5.8MB/s             1.7s\n",
      "bioconda/noarch      ━━━━━━━━━━━━━━━━━━━━━━   4.7MB @   3.2MB/s Downloaded  1.7s\u001b[2K\u001b[1A\u001b[2K\u001b[1A\u001b[2K\u001b[1A\u001b[2K\u001b[0G[+] 1.8s\n",
      "conda-forge/linux-64 \u001b[90m━━━━━━━╸\u001b[0m\u001b[33m━━━━━━━━━━━━━━\u001b[0m   7.9MB @   5.5MB/s             1.8s\n",
      "conda-forge/noarch   \u001b[90m━━━━━╸\u001b[0m\u001b[33m━━━━━━━━━━━━━━━━\u001b[0m   8.3MB @   5.8MB/s             1.8s\n",
      "bioconda/noarch      ━━━━━━━━━━━━━━━━━━━━━━   4.7MB @   3.2MB/s Finalizing  1.8s\u001b[2K\u001b[1A\u001b[2K\u001b[1A\u001b[2K\u001b[1A\u001b[2K\u001b[0G[+] 1.9s\n",
      "conda-forge/linux-64 \u001b[90m━━━━━━━╸\u001b[0m\u001b[33m━━━━━━━━━━━━━━\u001b[0m   7.9MB @   5.5MB/s             1.9s\n",
      "conda-forge/noarch   \u001b[90m━━━━━╸\u001b[0m\u001b[33m━━━━━━━━━━━━━━━━\u001b[0m   8.3MB @   5.8MB/s             1.9s\n",
      "bioconda/noarch      ━━━━━━━━━━━━━━━━━━━━━━   4.7MB @   3.2MB/s Finalizing  1.9s\u001b[2K\u001b[1A\u001b[2K\u001b[1A\u001b[2K\u001b[1A\u001b[2K\u001b[0Gbioconda/noarch                                    @   3.2MB/s  2.0s\n",
      "[+] 2.0s\n",
      "conda-forge/linux-64 \u001b[90m━━━━━━━━━╸\u001b[0m\u001b[33m━━━━━━━━━━━━━\u001b[0m   8.6MB /  ??.?MB @   4.3MB/s  2.0s\n",
      "conda-forge/noarch   \u001b[90m━━━━━━╸\u001b[0m\u001b[33m━━━━━━━━━━━━━━━━\u001b[0m   8.3MB /  ??.?MB @   5.8MB/s  2.0s\u001b[2K\u001b[1A\u001b[2K\u001b[1A\u001b[2K\u001b[0G[+] 2.1s\n",
      "conda-forge/linux-64 \u001b[90m━━━━━━━━━━╸\u001b[0m\u001b[33m━━━━━━━━━━━━\u001b[0m  10.4MB /  ??.?MB @   5.1MB/s  2.1s\n",
      "conda-forge/noarch   \u001b[90m━━━━━━━━╸\u001b[0m\u001b[33m━━━━━━━━━━━━━━\u001b[0m  11.1MB /  ??.?MB @   5.4MB/s  2.1s\u001b[2K\u001b[1A\u001b[2K\u001b[1A\u001b[2K\u001b[0G[+] 2.2s\n",
      "conda-forge/linux-64 \u001b[90m━━━━━━━━━━━━╸\u001b[0m\u001b[33m━━━━━━━━━━\u001b[0m  11.2MB /  ??.?MB @   5.2MB/s  2.2s\n",
      "conda-forge/noarch   \u001b[90m━━━━━━━━━━╸\u001b[0m\u001b[33m━━━━━━━━━━━━\u001b[0m  12.0MB /  ??.?MB @   5.5MB/s  2.2s\u001b[2K\u001b[1A\u001b[2K\u001b[1A\u001b[2K\u001b[0G[+] 2.3s\n",
      "conda-forge/linux-64 \u001b[33m━━━━━━━━━╸\u001b[0m\u001b[90m━━━━━━━━━━━━━\u001b[0m  12.0MB /  ??.?MB @   5.3MB/s  2.3s\n",
      "conda-forge/noarch   \u001b[90m━━━━━━━━━━━━━╸\u001b[0m\u001b[33m━━━━━━━━━\u001b[0m  12.7MB /  ??.?MB @   5.6MB/s  2.3s\u001b[2K\u001b[1A\u001b[2K\u001b[1A\u001b[2K\u001b[0G[+] 2.4s\n",
      "conda-forge/linux-64 \u001b[33m━━━━━━━━━━━╸\u001b[0m\u001b[90m━━━━━━━━━━━\u001b[0m  12.8MB /  ??.?MB @   5.4MB/s  2.4s\n",
      "conda-forge/noarch   \u001b[33m━━━━━━━━━╸\u001b[0m\u001b[90m━━━━━━━━━━━━━\u001b[0m  13.4MB /  ??.?MB @   5.6MB/s  2.4s\u001b[2K\u001b[1A\u001b[2K\u001b[1A\u001b[2K\u001b[0G[+] 2.5s\n",
      "conda-forge/linux-64 \u001b[33m━━━━━━━━━━━━━╸\u001b[0m\u001b[90m━━━━━━━━━\u001b[0m  13.3MB /  ??.?MB @   5.4MB/s  2.5s\n",
      "conda-forge/noarch   \u001b[33m━━━━━━━━━━━╸\u001b[0m\u001b[90m━━━━━━━━━━━\u001b[0m  14.0MB /  ??.?MB @   5.7MB/s  2.5s\u001b[2K\u001b[1A\u001b[2K\u001b[1A\u001b[2K\u001b[0G[+] 2.6s\n",
      "conda-forge/linux-64 \u001b[33m━━━━━━━━━━━━━╸\u001b[0m\u001b[90m━━━━━━━━━\u001b[0m  13.3MB /  ??.?MB @   5.4MB/s  2.6s\n",
      "conda-forge/noarch   \u001b[33m━━━━━━━━━━━╸\u001b[0m\u001b[90m━━━━━━━━━━━\u001b[0m  14.0MB /  ??.?MB @   5.7MB/s  2.6s\u001b[2K\u001b[1A\u001b[2K\u001b[1A\u001b[2K\u001b[0G[+] 2.7s\n",
      "conda-forge/linux-64 \u001b[33m━━━━━━━━━━━━━╸\u001b[0m\u001b[90m━━━━━━━━━\u001b[0m  13.3MB /  ??.?MB @   5.4MB/s  2.7s\n",
      "conda-forge/noarch   \u001b[33m━━━━━━━━━━━╸\u001b[0m\u001b[90m━━━━━━━━━━━\u001b[0m  14.0MB /  ??.?MB @   5.7MB/s  2.7s\u001b[2K\u001b[1A\u001b[2K\u001b[1A\u001b[2K\u001b[0G[+] 2.8s\n",
      "conda-forge/linux-64 \u001b[33m━━━━━━━━━━━━━╸\u001b[0m\u001b[90m━━━━━━━━━\u001b[0m  13.3MB /  ??.?MB @   5.4MB/s  2.8s\n",
      "conda-forge/noarch   \u001b[33m━━━━━━━━━━━╸\u001b[0m\u001b[90m━━━━━━━━━━━\u001b[0m  14.0MB /  ??.?MB @   5.7MB/s  2.8s\u001b[2K\u001b[1A\u001b[2K\u001b[1A\u001b[2K\u001b[0G[+] 2.9s\n",
      "conda-forge/linux-64 \u001b[33m━━━━━━━━━━━━━╸\u001b[0m\u001b[90m━━━━━━━━\u001b[0m  13.3MB @   5.4MB/s             2.9s\n",
      "conda-forge/noarch   ━━━━━━━━━━━━━━━━━━━━━━  14.1MB @   5.7MB/s Downloaded  2.9s\u001b[2K\u001b[1A\u001b[2K\u001b[1A\u001b[2K\u001b[0G[+] 3.0s\n",
      "conda-forge/linux-64 \u001b[33m━━━━━━━━━━━━━╸\u001b[0m\u001b[90m━━━━━━━━\u001b[0m  13.3MB @   5.4MB/s             3.0s\n",
      "conda-forge/noarch   ━━━━━━━━━━━━━━━━━━━━━━  14.1MB @   5.7MB/s Finalizing  3.0s\u001b[2K\u001b[1A\u001b[2K\u001b[1A\u001b[2K\u001b[0G[+] 3.1s\n",
      "conda-forge/linux-64 \u001b[33m━━━━━━━━━━━━━╸\u001b[0m\u001b[90m━━━━━━━━\u001b[0m  13.3MB @   5.4MB/s             3.1s\n",
      "conda-forge/noarch   ━━━━━━━━━━━━━━━━━━━━━━  14.1MB @   5.7MB/s Finalizing  3.1s\u001b[2K\u001b[1A\u001b[2K\u001b[1A\u001b[2K\u001b[0G[+] 3.2s\n",
      "conda-forge/linux-64 \u001b[33m━━━━━━━━━━━━━╸\u001b[0m\u001b[90m━━━━━━━━\u001b[0m  13.3MB @   5.4MB/s             3.2s\n",
      "conda-forge/noarch   ━━━━━━━━━━━━━━━━━━━━━━  14.1MB @   5.7MB/s Finalizing  3.2s\u001b[2K\u001b[1A\u001b[2K\u001b[1A\u001b[2K\u001b[0G[+] 3.3s\n",
      "conda-forge/linux-64 \u001b[33m━━━━━━━━━━━━━╸\u001b[0m\u001b[90m━━━━━━━━\u001b[0m  13.3MB @   5.4MB/s             3.3s\n",
      "conda-forge/noarch   ━━━━━━━━━━━━━━━━━━━━━━  14.1MB @   5.7MB/s Finalizing  3.3s\u001b[2K\u001b[1A\u001b[2K\u001b[1A\u001b[2K\u001b[0G[+] 3.4s\n",
      "conda-forge/linux-64 \u001b[33m━━━━━━━━━━━━━╸\u001b[0m\u001b[90m━━━━━━━━\u001b[0m  13.3MB @   5.4MB/s             3.4s\n",
      "conda-forge/noarch   ━━━━━━━━━━━━━━━━━━━━━━  14.1MB @   5.7MB/s Finalizing  3.4s\u001b[2K\u001b[1A\u001b[2K\u001b[1A\u001b[2K\u001b[0Gconda-forge/noarch                                 @   5.7MB/s  3.4s\n",
      "[+] 3.5s\n",
      "conda-forge/linux-64 \u001b[33m━━━━━━━━━━━━━━━╸\u001b[0m\u001b[90m━━━━━━━\u001b[0m  17.3MB /  ??.?MB @   5.0MB/s  3.5s\u001b[2K\u001b[1A\u001b[2K\u001b[0G[+] 3.6s\n",
      "conda-forge/linux-64 \u001b[90m━╸\u001b[0m\u001b[33m━━━━━━━━━━━━━━━╸\u001b[0m\u001b[90m━━━━━\u001b[0m  19.8MB /  ??.?MB @   5.5MB/s  3.6s\u001b[2K\u001b[1A\u001b[2K\u001b[0G[+] 3.7s\n",
      "conda-forge/linux-64 \u001b[90m━━━━╸\u001b[0m\u001b[33m━━━━━━━━━━━━━━━╸\u001b[0m\u001b[90m━━\u001b[0m  20.6MB /  ??.?MB @   5.6MB/s  3.7s\u001b[2K\u001b[1A\u001b[2K\u001b[0G[+] 3.8s\n",
      "conda-forge/linux-64 \u001b[90m━━━━━━╸\u001b[0m\u001b[33m━━━━━━━━━━━━━━━━\u001b[0m  21.4MB /  ??.?MB @   5.6MB/s  3.8s\u001b[2K\u001b[1A\u001b[2K\u001b[0G[+] 3.9s\n",
      "conda-forge/linux-64 \u001b[90m━━━━━━━╸\u001b[0m\u001b[33m━━━━━━━━━━━━━━━\u001b[0m  21.8MB /  ??.?MB @   5.6MB/s  3.9s\u001b[2K\u001b[1A\u001b[2K\u001b[0G[+] 4.0s\n",
      "conda-forge/linux-64 \u001b[90m━━━━━━━━━╸\u001b[0m\u001b[33m━━━━━━━━━━━━━\u001b[0m  22.3MB /  ??.?MB @   5.6MB/s  4.0s\u001b[2K\u001b[1A\u001b[2K\u001b[0G[+] 4.1s\n",
      "conda-forge/linux-64 \u001b[90m━━━━━━━━━━━╸\u001b[0m\u001b[33m━━━━━━━━━━━\u001b[0m  22.9MB /  ??.?MB @   5.6MB/s  4.1s\u001b[2K\u001b[1A\u001b[2K\u001b[0G[+] 4.2s\n",
      "conda-forge/linux-64 \u001b[33m━━━━━━━╸\u001b[0m\u001b[90m━━━━━━━━━━━━━━━\u001b[0m  23.5MB /  ??.?MB @   5.6MB/s  4.2s\u001b[2K\u001b[1A\u001b[2K\u001b[0G[+] 4.3s\n",
      "conda-forge/linux-64 \u001b[33m━━━━━━━━━━╸\u001b[0m\u001b[90m━━━━━━━━━━━━\u001b[0m  24.3MB /  ??.?MB @   5.7MB/s  4.3s\u001b[2K\u001b[1A\u001b[2K\u001b[0G[+] 4.4s\n",
      "conda-forge/linux-64 \u001b[33m━━━━━━━━━━━━╸\u001b[0m\u001b[90m━━━━━━━━━━\u001b[0m  25.1MB /  ??.?MB @   5.7MB/s  4.4s\u001b[2K\u001b[1A\u001b[2K\u001b[0G[+] 4.5s\n",
      "conda-forge/linux-64 \u001b[33m━━━━━━━━━━━━━━╸\u001b[0m\u001b[90m━━━━━━━━\u001b[0m  25.9MB /  ??.?MB @   5.8MB/s  4.5s\u001b[2K\u001b[1A\u001b[2K\u001b[0G[+] 4.6s\n",
      "conda-forge/linux-64 \u001b[90m╸\u001b[0m\u001b[33m━━━━━━━━━━━━━━━╸\u001b[0m\u001b[90m━━━━━━\u001b[0m  26.7MB /  ??.?MB @   5.8MB/s  4.6s\u001b[2K\u001b[1A\u001b[2K\u001b[0G[+] 4.7s\n",
      "conda-forge/linux-64 \u001b[90m━━╸\u001b[0m\u001b[33m━━━━━━━━━━━━━━━╸\u001b[0m\u001b[90m━━━━\u001b[0m  27.4MB /  ??.?MB @   5.9MB/s  4.7s\u001b[2K\u001b[1A\u001b[2K\u001b[0G[+] 4.8s\n",
      "conda-forge/linux-64 \u001b[90m━━━━━╸\u001b[0m\u001b[33m━━━━━━━━━━━━━━━╸\u001b[0m\u001b[90m━\u001b[0m  28.1MB /  ??.?MB @   5.9MB/s  4.8s\u001b[2K\u001b[1A\u001b[2K\u001b[0G[+] 4.9s\n",
      "conda-forge/linux-64 \u001b[90m━━━━━━━╸\u001b[0m\u001b[33m━━━━━━━━━━━━━━━\u001b[0m  28.9MB /  ??.?MB @   5.9MB/s  4.9s\u001b[2K\u001b[1A\u001b[2K\u001b[0G[+] 5.0s\n",
      "conda-forge/linux-64 \u001b[90m━━━━━━━━━╸\u001b[0m\u001b[33m━━━━━━━━━━━━━\u001b[0m  29.7MB /  ??.?MB @   5.9MB/s  5.0s\u001b[2K\u001b[1A\u001b[2K\u001b[0G[+] 5.1s\n",
      "conda-forge/linux-64 \u001b[90m━━━━━━━━━━━╸\u001b[0m\u001b[33m━━━━━━━━━━━\u001b[0m  30.4MB /  ??.?MB @   6.0MB/s  5.1s\u001b[2K\u001b[1A\u001b[2K\u001b[0G[+] 5.2s\n",
      "conda-forge/linux-64 \u001b[90m━━━━━━━━━━━━╸\u001b[0m\u001b[33m━━━━━━━━━━\u001b[0m  30.7MB /  ??.?MB @   6.0MB/s  5.2s\u001b[2K\u001b[1A\u001b[2K\u001b[0G[+] 5.3s\n",
      "conda-forge/linux-64 \u001b[33m━━━━━━━━━╸\u001b[0m\u001b[90m━━━━━━━━━━━━━\u001b[0m  31.5MB /  ??.?MB @   6.0MB/s  5.3s\u001b[2K\u001b[1A\u001b[2K\u001b[0G[+] 5.4s\n",
      "conda-forge/linux-64 \u001b[33m━━━━━━━━━━━╸\u001b[0m\u001b[90m━━━━━━━━━━━\u001b[0m  32.1MB /  ??.?MB @   6.0MB/s  5.4s\u001b[2K\u001b[1A\u001b[2K\u001b[0G[+] 5.5s\n",
      "conda-forge/linux-64 \u001b[33m━━━━━━━━━━━━━╸\u001b[0m\u001b[90m━━━━━━━━━\u001b[0m  33.0MB /  ??.?MB @   6.0MB/s  5.5s\u001b[2K\u001b[1A\u001b[2K\u001b[0G[+] 5.6s\n",
      "conda-forge/linux-64 \u001b[33m━━━━━━━━━━━━━━━╸\u001b[0m\u001b[90m━━━━━━━\u001b[0m  33.8MB /  ??.?MB @   6.1MB/s  5.6s\u001b[2K\u001b[1A\u001b[2K\u001b[0G[+] 5.7s\n",
      "conda-forge/linux-64 \u001b[90m━╸\u001b[0m\u001b[33m━━━━━━━━━━━━━━━╸\u001b[0m\u001b[90m━━━━━\u001b[0m  34.5MB /  ??.?MB @   6.1MB/s  5.7s\u001b[2K\u001b[1A\u001b[2K\u001b[0G[+] 5.8s\n",
      "conda-forge/linux-64 \u001b[90m━╸\u001b[0m\u001b[33m━━━━━━━━━━━━━━━╸\u001b[0m\u001b[90m━━━━━\u001b[0m  34.5MB /  ??.?MB @   6.1MB/s  5.8s\u001b[2K\u001b[1A\u001b[2K\u001b[0G[+] 5.9s\n",
      "conda-forge/linux-64 \u001b[90m━╸\u001b[0m\u001b[33m━━━━━━━━━━━━━━━╸\u001b[0m\u001b[90m━━━━━\u001b[0m  34.5MB /  ??.?MB @   6.1MB/s  5.9s\u001b[2K\u001b[1A\u001b[2K\u001b[0G[+] 6.0s\n",
      "conda-forge/linux-64 \u001b[90m━╸\u001b[0m\u001b[33m━━━━━━━━━━━━━━━╸\u001b[0m\u001b[90m━━━━━\u001b[0m  34.5MB /  ??.?MB @   6.1MB/s  6.0s\u001b[2K\u001b[1A\u001b[2K\u001b[0G[+] 6.1s\n",
      "conda-forge/linux-64 \u001b[90m━╸\u001b[0m\u001b[33m━━━━━━━━━━━━━━━╸\u001b[0m\u001b[90m━━━━━\u001b[0m  34.5MB /  ??.?MB @   6.1MB/s  6.1s\u001b[2K\u001b[1A\u001b[2K\u001b[0G[+] 6.2s\n",
      "conda-forge/linux-64 \u001b[90m━╸\u001b[0m\u001b[33m━━━━━━━━━━━━━━━╸\u001b[0m\u001b[90m━━━━━\u001b[0m  34.5MB /  ??.?MB @   6.1MB/s  6.2s\u001b[2K\u001b[1A\u001b[2K\u001b[0G[+] 6.3s\n",
      "conda-forge/linux-64 \u001b[90m━╸\u001b[0m\u001b[33m━━━━━━━━━━━━━━━╸\u001b[0m\u001b[90m━━━━━\u001b[0m  34.5MB /  ??.?MB @   6.1MB/s  6.3s\u001b[2K\u001b[1A\u001b[2K\u001b[0G[+] 6.4s\n",
      "conda-forge/linux-64 \u001b[90m━╸\u001b[0m\u001b[33m━━━━━━━━━━━━━━━╸\u001b[0m\u001b[90m━━━━━\u001b[0m  34.5MB /  ??.?MB @   6.1MB/s  6.4s\u001b[2K\u001b[1A\u001b[2K\u001b[0G[+] 6.5s\n",
      "conda-forge/linux-64 \u001b[90m━╸\u001b[0m\u001b[33m━━━━━━━━━━━━━━━╸\u001b[0m\u001b[90m━━━━━\u001b[0m  34.5MB /  ??.?MB @   6.1MB/s  6.5s\u001b[2K\u001b[1A\u001b[2K\u001b[0G[+] 6.6s\n",
      "conda-forge/linux-64 \u001b[90m━╸\u001b[0m\u001b[33m━━━━━━━━━━━━━━━╸\u001b[0m\u001b[90m━━━━━\u001b[0m  34.5MB /  ??.?MB @   6.1MB/s  6.6s\u001b[2K\u001b[1A\u001b[2K\u001b[0G[+] 6.7s\n",
      "conda-forge/linux-64 \u001b[90m━╸\u001b[0m\u001b[33m━━━━━━━━━━━━━━━╸\u001b[0m\u001b[90m━━━━━\u001b[0m  34.5MB /  ??.?MB @   6.1MB/s  6.7s\u001b[2K\u001b[1A\u001b[2K\u001b[0G[+] 6.8s\n",
      "conda-forge/linux-64 \u001b[90m━╸\u001b[0m\u001b[33m━━━━━━━━━━━━━━━╸\u001b[0m\u001b[90m━━━━━\u001b[0m  34.5MB /  ??.?MB @   6.1MB/s  6.8s\u001b[2K\u001b[1A\u001b[2K\u001b[0G[+] 6.9s\n",
      "conda-forge/linux-64 \u001b[90m━╸\u001b[0m\u001b[33m━━━━━━━━━━━━━━━╸\u001b[0m\u001b[90m━━━━━\u001b[0m  34.5MB /  ??.?MB @   6.1MB/s  6.9s\u001b[2K\u001b[1A\u001b[2K\u001b[0G[+] 7.0s\n",
      "conda-forge/linux-64 \u001b[90m━╸\u001b[0m\u001b[33m━━━━━━━━━━━━━━━╸\u001b[0m\u001b[90m━━━━━\u001b[0m  34.5MB /  ??.?MB @   6.1MB/s  7.0s\u001b[2K\u001b[1A\u001b[2K\u001b[0G[+] 7.1s\n",
      "conda-forge/linux-64 \u001b[90m━╸\u001b[0m\u001b[33m━━━━━━━━━━━━━━━╸\u001b[0m\u001b[90m━━━━━\u001b[0m  34.5MB /  ??.?MB @   6.1MB/s  7.1s\u001b[2K\u001b[1A\u001b[2K\u001b[0G[+] 7.2s\n",
      "conda-forge/linux-64 \u001b[90m━╸\u001b[0m\u001b[33m━━━━━━━━━━━━━━━╸\u001b[0m\u001b[90m━━━━━\u001b[0m  34.5MB /  ??.?MB @   6.1MB/s  7.2s\u001b[2K\u001b[1A\u001b[2K\u001b[0G[+] 7.3s\n",
      "conda-forge/linux-64 ━━━━━━━━━━━━━━━━━━━━━━  34.9MB @   6.1MB/s Finalizing  7.3s\u001b[2K\u001b[1A\u001b[2K\u001b[0G[+] 7.4s\n",
      "conda-forge/linux-64 ━━━━━━━━━━━━━━━━━━━━━━  34.9MB @   6.1MB/s Finalizing  7.4s\u001b[2K\u001b[1A\u001b[2K\u001b[0G[+] 7.5s\n",
      "conda-forge/linux-64 ━━━━━━━━━━━━━━━━━━━━━━  34.9MB @   6.1MB/s Finalizing  7.5s\u001b[2K\u001b[1A\u001b[2K\u001b[0G[+] 7.6s\n",
      "conda-forge/linux-64 ━━━━━━━━━━━━━━━━━━━━━━  34.9MB @   6.1MB/s Finalizing  7.6s\u001b[2K\u001b[1A\u001b[2K\u001b[0G[+] 7.7s\n",
      "conda-forge/linux-64 ━━━━━━━━━━━━━━━━━━━━━━  34.9MB @   6.1MB/s Finalizing  7.7s\u001b[2K\u001b[1A\u001b[2K\u001b[0G[+] 7.8s\n",
      "conda-forge/linux-64 ━━━━━━━━━━━━━━━━━━━━━━  34.9MB @   6.1MB/s Finalizing  7.8s\u001b[2K\u001b[1A\u001b[2K\u001b[0G[+] 7.9s\n",
      "conda-forge/linux-64 ━━━━━━━━━━━━━━━━━━━━━━  34.9MB @   6.1MB/s Finalizing  7.9s\u001b[2K\u001b[1A\u001b[2K\u001b[0G[+] 8.0s\n",
      "conda-forge/linux-64 ━━━━━━━━━━━━━━━━━━━━━━  34.9MB @   6.1MB/s Finalizing  8.0s\u001b[2K\u001b[1A\u001b[2K\u001b[0G[+] 8.1s\n",
      "conda-forge/linux-64 ━━━━━━━━━━━━━━━━━━━━━━  34.9MB @   6.1MB/s Finalizing  8.1s\u001b[2K\u001b[1A\u001b[2K\u001b[0G[+] 8.2s\n",
      "conda-forge/linux-64 ━━━━━━━━━━━━━━━━━━━━━━  34.9MB @   6.1MB/s Finalizing  8.2s\u001b[2K\u001b[1A\u001b[2K\u001b[0G[+] 8.3s\n",
      "conda-forge/linux-64 ━━━━━━━━━━━━━━━━━━━━━━  34.9MB @   6.1MB/s Finalizing  8.3s\u001b[2K\u001b[1A\u001b[2K\u001b[0G[+] 8.4s\n",
      "conda-forge/linux-64 ━━━━━━━━━━━━━━━━━━━━━━  34.9MB @   6.1MB/s Finalizing  8.4s\u001b[2K\u001b[1A\u001b[2K\u001b[0G[+] 8.5s\n",
      "conda-forge/linux-64 ━━━━━━━━━━━━━━━━━━━━━━  34.9MB @   6.1MB/s Finalizing  8.5s\u001b[2K\u001b[1A\u001b[2K\u001b[0G[+] 8.6s\n",
      "conda-forge/linux-64 ━━━━━━━━━━━━━━━━━━━━━━  34.9MB @   6.1MB/s Finalizing  8.6s\u001b[2K\u001b[1A\u001b[2K\u001b[0G[+] 8.7s\n",
      "conda-forge/linux-64 ━━━━━━━━━━━━━━━━━━━━━━  34.9MB @   6.1MB/s Finalizing  8.7s\u001b[2K\u001b[1A\u001b[2K\u001b[0G[+] 8.8s\n",
      "conda-forge/linux-64 ━━━━━━━━━━━━━━━━━━━━━━  34.9MB @   6.1MB/s Finalizing  8.8s\u001b[2K\u001b[1A\u001b[2K\u001b[0G[+] 8.9s\n",
      "conda-forge/linux-64 ━━━━━━━━━━━━━━━━━━━━━━  34.9MB @   6.1MB/s Finalizing  8.9s\u001b[2K\u001b[1A\u001b[2K\u001b[0Gconda-forge/linux-64                               @   6.1MB/s  8.9s\n",
      "\u001b[?25h\n",
      "Pinned packages:\n",
      "  - python 3.7.*\n",
      "\n",
      "\n",
      "Transaction\n",
      "\n",
      "  Prefix: /opt/conda\n",
      "\n",
      "  Updating specs:\n",
      "\n",
      "   - snakemake\n",
      "   - ca-certificates\n",
      "   - certifi\n",
      "   - openssl\n",
      "\n",
      "\n",
      "  Package                         Version  Build                Channel                    Size\n",
      "─────────────────────────────────────────────────────────────────────────────────────────────────\n",
      "  Install:\n",
      "─────────────────────────────────────────────────────────────────────────────────────────────────\n",
      "\n",
      "  \u001b[32m+ aioeasywebdav           \u001b[0m        2.4.0  py37h89c1867_1001    conda-forge/linux-64       18kB\n",
      "  \u001b[32m+ aiohttp                 \u001b[0m  3.7.4.post0  py37h5e8e339_1       conda-forge/linux-64      641kB\n",
      "  \u001b[32m+ amply                   \u001b[0m        0.1.6  pyhd8ed1ab_0         conda-forge/noarch         22kB\n",
      "  \u001b[32m+ appdirs                 \u001b[0m        1.4.4  pyh9f0ad1d_0         conda-forge/noarch         13kB\n",
      "  \u001b[32m+ async-timeout           \u001b[0m        3.0.1  py_1000              conda-forge/noarch         12kB\n",
      "  \u001b[32m+ attmap                  \u001b[0m       0.13.2  pyhd8ed1ab_0         conda-forge/noarch         14kB\n",
      "  \u001b[32m+ bcrypt                  \u001b[0m        3.2.2  py37h540881e_0       conda-forge/linux-64       45kB\n",
      "  \u001b[32m+ boto3                   \u001b[0m       1.7.84  py_0                 conda-forge/noarch         62kB\n",
      "  \u001b[32m+ botocore                \u001b[0m      1.10.84  py_0                 conda-forge/noarch          3MB\n",
      "  \u001b[32m+ cachetools              \u001b[0m        5.3.1  pyhd8ed1ab_0         conda-forge/noarch         15kB\n",
      "  \u001b[32m+ chardet                 \u001b[0m        4.0.0  py37h89c1867_3       conda-forge/linux-64      203kB\n",
      "  \u001b[32m+ coin-or-cbc             \u001b[0m      2.10.10  h9002f0b_0           conda-forge/linux-64      941kB\n",
      "  \u001b[32m+ coin-or-cgl             \u001b[0m       0.60.7  h516709c_0           conda-forge/linux-64      551kB\n",
      "  \u001b[32m+ coin-or-clp             \u001b[0m       1.17.8  h1ee7a9c_0           conda-forge/linux-64        1MB\n",
      "  \u001b[32m+ coin-or-osi             \u001b[0m      0.108.8  ha2443b9_0           conda-forge/linux-64      389kB\n",
      "  \u001b[32m+ coin-or-utils           \u001b[0m       2.11.9  hee58242_0           conda-forge/linux-64      687kB\n",
      "  \u001b[32m+ coincbc                 \u001b[0m      2.10.10  0_metapackage        conda-forge/noarch         12kB\n",
      "  \u001b[32m+ colorama                \u001b[0m        0.4.6  pyhd8ed1ab_0         conda-forge/noarch  \u001b[32m     Cached\u001b[0m\n",
      "  \u001b[32m+ configargparse          \u001b[0m          1.7  pyhd8ed1ab_0         conda-forge/noarch         39kB\n",
      "  \u001b[32m+ connection_pool         \u001b[0m        0.0.3  pyhd3deb0d_0         conda-forge/noarch          8kB\n",
      "  \u001b[32m+ datrie                  \u001b[0m        0.8.2  py37h540881e_4       conda-forge/linux-64      146kB\n",
      "  \u001b[32m+ docutils                \u001b[0m         0.19  py37h89c1867_0       conda-forge/linux-64      756kB\n",
      "  \u001b[32m+ dpath                   \u001b[0m        2.1.6  pyha770c72_0         conda-forge/noarch         21kB\n",
      "  \u001b[32m+ dropbox                 \u001b[0m      11.36.2  pyhd8ed1ab_0         conda-forge/noarch        979kB\n",
      "  \u001b[32m+ filechunkio             \u001b[0m          1.8  py_2                 conda-forge/noarch          5kB\n",
      "  \u001b[32m+ filelock                \u001b[0m       3.12.4  pyhd8ed1ab_0         conda-forge/noarch         15kB\n",
      "  \u001b[32m+ ftputil                 \u001b[0m        5.0.4  pyhd8ed1ab_0         conda-forge/noarch         43kB\n",
      "  \u001b[32m+ gitdb                   \u001b[0m       4.0.10  pyhd8ed1ab_0         conda-forge/noarch         52kB\n",
      "  \u001b[32m+ gitpython               \u001b[0m       3.1.37  pyhd8ed1ab_0         conda-forge/noarch        147kB\n",
      "  \u001b[32m+ google-api-core         \u001b[0m       2.12.0  pyhd8ed1ab_0         conda-forge/noarch         78kB\n",
      "  \u001b[32m+ google-api-python-client\u001b[0m      2.103.0  pyhd8ed1ab_0         conda-forge/noarch          6MB\n",
      "  \u001b[32m+ google-auth             \u001b[0m       2.17.3  pyh1a96a4e_0         conda-forge/noarch         99kB\n",
      "  \u001b[32m+ google-auth-httplib2    \u001b[0m        0.1.1  pyhd8ed1ab_0         conda-forge/noarch         15kB\n",
      "  \u001b[32m+ google-cloud-core       \u001b[0m        2.3.3  pyhd8ed1ab_0         conda-forge/noarch         29kB\n",
      "  \u001b[32m+ google-cloud-storage    \u001b[0m       2.11.0  pyh1a96a4e_0         conda-forge/noarch         85kB\n",
      "  \u001b[32m+ google-crc32c           \u001b[0m        1.1.2  py37h5d4fa31_3       conda-forge/linux-64       25kB\n",
      "  \u001b[32m+ google-resumable-media  \u001b[0m        2.6.0  pyhd8ed1ab_0         conda-forge/noarch         46kB\n",
      "  \u001b[32m+ googleapis-common-protos\u001b[0m       1.60.0  pyhd8ed1ab_0         conda-forge/noarch        121kB\n",
      "  \u001b[32m+ grpc-cpp                \u001b[0m       1.48.1  h30feacc_1           conda-forge/linux-64        6MB\n",
      "  \u001b[32m+ grpcio                  \u001b[0m       1.48.1  py37he7b19e7_1       conda-forge/linux-64      839kB\n",
      "  \u001b[32m+ httplib2                \u001b[0m       0.22.0  pyhd8ed1ab_0         conda-forge/noarch         95kB\n",
      "  \u001b[32m+ importlib_metadata      \u001b[0m       4.11.4  hd8ed1ab_0           conda-forge/noarch          4kB\n",
      "  \u001b[32m+ iniconfig               \u001b[0m        2.0.0  pyhd8ed1ab_0         conda-forge/noarch         11kB\n",
      "  \u001b[32m+ jmespath                \u001b[0m       0.10.0  pyh9f0ad1d_0         conda-forge/noarch         21kB\n",
      "  \u001b[32m+ libabseil               \u001b[0m   20220623.0  cxx17_h05df665_6     conda-forge/linux-64        1MB\n",
      "  \u001b[32m+ libcrc32c               \u001b[0m        1.1.2  h9c3ff4c_0           conda-forge/linux-64       20kB\n",
      "  \u001b[32m+ liblapacke              \u001b[0m        3.9.0  18_linux64_openblas  conda-forge/linux-64       14kB\n",
      "  \u001b[32m+ libprotobuf             \u001b[0m       3.21.8  h6239696_0           conda-forge/linux-64        3MB\n",
      "  \u001b[32m+ logmuse                 \u001b[0m        0.2.6  pyh8c360ce_0         conda-forge/noarch         11kB\n",
      "  \u001b[32m+ multidict               \u001b[0m        6.0.2  py37h540881e_1       conda-forge/linux-64       50kB\n",
      "  \u001b[32m+ oauth2client            \u001b[0m        4.1.3  py_0                 conda-forge/noarch         67kB\n",
      "  \u001b[32m+ paramiko                \u001b[0m        3.3.1  pyhd8ed1ab_0         conda-forge/noarch        159kB\n",
      "  \u001b[32m+ peppy                   \u001b[0m       0.35.7  pyhd8ed1ab_0         conda-forge/noarch         33kB\n",
      "  \u001b[32m+ plac                    \u001b[0m        1.4.0  pyhd8ed1ab_0         conda-forge/noarch         26kB\n",
      "  \u001b[32m+ pluggy                  \u001b[0m        1.0.0  py37h89c1867_3       conda-forge/linux-64       26kB\n",
      "  \u001b[32m+ ply                     \u001b[0m         3.11  py_1                 conda-forge/noarch         45kB\n",
      "  \u001b[32m+ prettytable             \u001b[0m        3.7.0  pyhd8ed1ab_0         conda-forge/noarch         29kB\n",
      "  \u001b[32m+ protobuf                \u001b[0m       4.21.8  py37hd23a5d3_0       conda-forge/linux-64      344kB\n",
      "  \u001b[32m+ pulp                    \u001b[0m        2.6.0  py37h89c1867_1       conda-forge/linux-64      126kB\n",
      "  \u001b[32m+ pyasn1                  \u001b[0m        0.5.0  pyhd8ed1ab_0         conda-forge/noarch         63kB\n",
      "  \u001b[32m+ pyasn1-modules          \u001b[0m        0.3.0  pyhd8ed1ab_0         conda-forge/noarch         96kB\n",
      "  \u001b[32m+ pynacl                  \u001b[0m        1.5.0  py37h540881e_1       conda-forge/linux-64        1MB\n",
      "  \u001b[32m+ pysftp                  \u001b[0m        0.2.9  py_1                 conda-forge/noarch         16kB\n",
      "  \u001b[32m+ pytest                  \u001b[0m        7.4.2  pyhd8ed1ab_0         conda-forge/noarch        245kB\n",
      "  \u001b[32m+ python-irodsclient      \u001b[0m        1.1.8  pyhd8ed1ab_0         conda-forge/noarch        155kB\n",
      "  \u001b[32m+ pyu2f                   \u001b[0m        0.1.5  pyhd8ed1ab_0         conda-forge/noarch         32kB\n",
      "  \u001b[32m+ re2                     \u001b[0m   2022.06.01  h27087fc_1           conda-forge/linux-64      196kB\n",
      "  \u001b[32m+ reretry                 \u001b[0m       0.11.8  pyhd8ed1ab_0         conda-forge/noarch         12kB\n",
      "  \u001b[32m+ rsa                     \u001b[0m          4.9  pyhd8ed1ab_0         conda-forge/noarch         30kB\n",
      "  \u001b[32m+ s3transfer              \u001b[0m       0.1.13  py37_1001            conda-forge/linux-64       78kB\n",
      "  \u001b[32m+ slacker                 \u001b[0m       0.14.0  py_0                 conda-forge/noarch         16kB\n",
      "  \u001b[32m+ smart_open              \u001b[0m        6.4.0  pyhd8ed1ab_0         conda-forge/noarch         48kB\n",
      "  \u001b[32m+ smmap                   \u001b[0m        3.0.5  pyh44b312d_0         conda-forge/noarch         23kB\n",
      "  \u001b[32m+ snakemake               \u001b[0m       7.24.0  hdfd78af_1           bioconda/noarch             8kB\n",
      "  \u001b[32m+ snakemake-minimal       \u001b[0m       7.24.0  pyhdfd78af_0         bioconda/noarch           263kB\n",
      "  \u001b[32m+ stone                   \u001b[0m        3.3.1  pyhd8ed1ab_0         conda-forge/noarch        149kB\n",
      "  \u001b[32m+ stopit                  \u001b[0m        1.1.2  py_0                 conda-forge/noarch         16kB\n",
      "  \u001b[32m+ tabulate                \u001b[0m        0.9.0  pyhd8ed1ab_1         conda-forge/noarch         36kB\n",
      "  \u001b[32m+ throttler               \u001b[0m        1.2.2  pyhd8ed1ab_0         conda-forge/noarch         12kB\n",
      "  \u001b[32m+ tomli                   \u001b[0m        2.0.1  pyhd8ed1ab_0         conda-forge/noarch         16kB\n",
      "  \u001b[32m+ toposort                \u001b[0m          1.7  pyhd8ed1ab_0         conda-forge/noarch         13kB\n",
      "  \u001b[32m+ ubiquerg                \u001b[0m        0.6.3  pyhd8ed1ab_0         conda-forge/noarch         18kB\n",
      "  \u001b[32m+ uritemplate             \u001b[0m        4.1.1  pyhd8ed1ab_0         conda-forge/noarch         12kB\n",
      "  \u001b[32m+ veracitools             \u001b[0m        0.1.3  py_0                 conda-forge/noarch          6kB\n",
      "  \u001b[32m+ wrapt                   \u001b[0m       1.14.1  py37h540881e_0       conda-forge/linux-64       51kB\n",
      "  \u001b[32m+ yarl                    \u001b[0m        1.7.2  py37h540881e_2       conda-forge/linux-64      135kB\n",
      "  \u001b[32m+ yte                     \u001b[0m        1.5.1  pyha770c72_2         conda-forge/noarch         14kB\n",
      "\n",
      "  Summary:\n",
      "\n",
      "  Install: 87 packages\n",
      "\n",
      "  Total download: 31MB\n",
      "\n",
      "─────────────────────────────────────────────────────────────────────────────────────────────────\n",
      "\n",
      "\n",
      "\u001b[?25l\u001b[2K\u001b[0G[+] 0.0s\n",
      "Downloading      \u001b[90m━━━━━━━━━━━━━━━━━━━━━━━\u001b[0m   0.0 B                            0.0s\n",
      "Extracting       \u001b[90m━━━━━━━━━━━━━━━━━━━━━━━\u001b[0m       0                            0.0s\u001b[2K\u001b[1A\u001b[2K\u001b[1A\u001b[2K\u001b[0G[+] 0.1s\n",
      "Downloading  (5) \u001b[90m━━━━━━━━━━━━━━━━━━━━━━━\u001b[0m   0.0 B appdirs                    0.0s\n",
      "Extracting       \u001b[90m━━━━━━━━━━━━━━━━━━━━━━━\u001b[0m       0                            0.0s\u001b[2K\u001b[1A\u001b[2K\u001b[1A\u001b[2K\u001b[0Gfilelock                                            15.2kB @  82.2kB/s  0.2s\n",
      "appdirs                                             12.8kB @  67.3kB/s  0.2s\n",
      "filechunkio                                          5.1kB @  25.5kB/s  0.2s\n",
      "[+] 0.2s\n",
      "Downloading  (5) \u001b[90m━━━━━━━━━━━━━━━━━━━━━━━\u001b[0m  33.1kB configargparse             0.1s\n",
      "Extracting   (3) \u001b[33m━━━━━━━━╸\u001b[0m\u001b[90m━━━━━━━━━━━━━━\u001b[0m       0 appdirs                    0.0s\u001b[2K\u001b[1A\u001b[2K\u001b[1A\u001b[2K\u001b[0Gconfigargparse                                      39.5kB @ 179.5kB/s  0.2s\n",
      "connection_pool                                      8.3kB @  37.8kB/s  0.2s\n",
      "dpath                                               21.0kB @  90.1kB/s  0.0s\n",
      "logmuse                                             10.7kB @  43.9kB/s  0.0s\n",
      "toposort                                            12.6kB @  48.3kB/s  0.1s\n",
      "httplib2                                            94.8kB @ 351.4kB/s  0.1s\n",
      "uritemplate                                         12.3kB @  44.6kB/s  0.1s\n",
      "importlib_metadata                                   3.9kB @  13.3kB/s  0.1s\n",
      "[+] 0.3s\n",
      "Downloading  (5) \u001b[90m━━━━━━━━━━━━━━━━━━━━━━━\u001b[0m 236.2kB async-timeout              0.2s\n",
      "Extracting  (11) \u001b[33m━━━━━━━━━╸\u001b[0m\u001b[90m━━━━━━━━━━━━━\u001b[0m       0 appdirs                    0.1s\u001b[2K\u001b[1A\u001b[2K\u001b[1A\u001b[2K\u001b[0Gasync-timeout                                       11.5kB @  37.0kB/s  0.1s\n",
      "rsa                                                 29.9kB @  93.2kB/s  0.1s\n",
      "gitdb                                               51.6kB @ 148.5kB/s  0.1s\n",
      "wrapt                                               51.1kB @ 146.3kB/s  0.1s\n",
      "oauth2client                                        67.5kB @ 188.1kB/s  0.1s\n",
      "re2                                                196.0kB @ 522.8kB/s  0.1s\n",
      "[+] 0.4s\n",
      "Downloading  (5) \u001b[33m╸\u001b[0m\u001b[90m━━━━━━━━━━━━━━━━━━━━━━\u001b[0m 643.7kB coin-or-osi                0.3s\n",
      "Extracting  (13) ╸\u001b[33m━━━╸\u001b[0m\u001b[90m━━━━━━━━━━━━━━━━━━\u001b[0m       4 async-timeout              0.2s\u001b[2K\u001b[1A\u001b[2K\u001b[1A\u001b[2K\u001b[0Gmultidict                                           50.0kB @ 124.0kB/s  0.1s\n",
      "liblapacke                                          14.5kB @  35.8kB/s  0.1s\n",
      "pluggy                                              25.6kB @  63.5kB/s  0.1s\n",
      "coin-or-osi                                        389.4kB @ 912.7kB/s  0.1s\n",
      "amply                                               21.9kB @  47.8kB/s  0.1s\n",
      "coin-or-utils                                      687.3kB @   1.4MB/s  0.1s\n",
      "coin-or-cbc                                        941.2kB @   1.9MB/s  0.1s\n",
      "coincbc                                             12.0kB @  24.8kB/s  0.1s\n",
      "coin-or-cgl                                        551.4kB @   1.1MB/s  0.1s\n",
      "[+] 0.5s\n",
      "Downloading  (5) ━╸\u001b[33m━━━━╸\u001b[0m\u001b[90m━━━━━━━━━━━━━━━━\u001b[0m   3.3MB attmap                     0.4s\n",
      "Extracting  (14) ━━╸\u001b[33m━━━╸\u001b[0m\u001b[90m━━━━━━━━━━━━━━━━\u001b[0m      12 amply                      0.3s\u001b[2K\u001b[1A\u001b[2K\u001b[1A\u001b[2K\u001b[0Ggoogle-auth-httplib2                                14.9kB @  28.6kB/s  0.1s\n",
      "attmap                                              13.6kB @  24.8kB/s  0.1s\n",
      "google-cloud-core                                   28.6kB @  51.1kB/s  0.1s\n",
      "google-api-python-client                             6.4MB @  11.0MB/s  0.1s\n",
      "snakemake                                            8.3kB @  14.4kB/s  0.1s\n",
      "smart_open                                          48.1kB @  82.4kB/s  0.1s\n",
      "[+] 0.6s\n",
      "Downloading  (5) ━━━━━━╸\u001b[90m━━━━━━━━━━━━━━━━\u001b[0m   9.8MB ftputil                    0.5s\n",
      "Extracting  (10) ━━━━╸\u001b[33m━━━╸\u001b[0m\u001b[90m━━━━━━━━━━━━━━\u001b[0m      22 amply                      0.4s\u001b[2K\u001b[1A\u001b[2K\u001b[1A\u001b[2K\u001b[0Gftputil                                             42.9kB @  70.4kB/s  0.1s\n",
      "slacker                                             15.6kB @  25.6kB/s  0.0s\n",
      "yte                                                 14.1kB @  22.4kB/s  0.0s\n",
      "smmap                                               22.8kB @  35.5kB/s  0.1s\n",
      "[+] 0.7s\n",
      "Downloading  (5) ━━━━━━╸\u001b[33m╸\u001b[0m\u001b[90m━━━━━━━━━━━━━━━\u001b[0m  10.9MB bcrypt                     0.6s\n",
      "Extracting   (8) ━━━━━━╸\u001b[33m━━╸\u001b[0m\u001b[90m━━━━━━━━━━━━━\u001b[0m      28 amply                      0.5s\u001b[2K\u001b[1A\u001b[2K\u001b[1A\u001b[2K\u001b[0Ggitpython                                          147.0kB @ 212.0kB/s  0.1s\n",
      "ply                                                 44.8kB @  63.6kB/s  0.1s\n",
      "pyasn1-modules                                      95.6kB @ 135.6kB/s  0.1s\n",
      "libabseil                                            1.1MB @   1.6MB/s  0.1s\n",
      "yarl                                               135.3kB @ 182.2kB/s  0.0s\n",
      "pytest                                             244.7kB @ 322.5kB/s  0.1s\n",
      "bcrypt                                              45.3kB @  59.6kB/s  0.1s\n",
      "google-auth                                         99.4kB @ 127.0kB/s  0.0s\n",
      "google-crc32c                                       24.7kB @  31.0kB/s  0.1s\n",
      "[+] 0.8s\n",
      "Downloading  (5) ━━━━━━━╸\u001b[33m━━━╸\u001b[0m\u001b[90m━━━━━━━━━━━\u001b[0m  11.8MB boto3                      0.7s\n",
      "Extracting  (10) ━━━━━━━━╸\u001b[33m━━╸\u001b[0m\u001b[90m━━━━━━━━━━━\u001b[0m      34 bcrypt                     0.6s\u001b[2K\u001b[1A\u001b[2K\u001b[1A\u001b[2K\u001b[0Ggoogle-api-core                                     78.3kB @  96.6kB/s  0.1s\n",
      "ubiquerg                                            17.9kB @  21.6kB/s  0.1s\n",
      "grpc-cpp                                             5.6MB @   6.5MB/s  0.2s\n",
      "plac                                                26.0kB @  29.9kB/s  0.1s\n",
      "reretry                                             12.2kB @  13.8kB/s  0.1s\n",
      "cachetools                                          14.6kB @  16.4kB/s  0.1s\n",
      "[+] 0.9s\n",
      "Downloading  (5) ━━━━━━━━━━━╸\u001b[33m╸\u001b[0m\u001b[90m━━━━━━━━━━\u001b[0m  17.6MB boto3                      0.8s\n",
      "Extracting   (7) ━━━━━━━━━━╸\u001b[33m━━╸\u001b[0m\u001b[90m━━━━━━━━━\u001b[0m      44 cachetools                 0.7s\u001b[2K\u001b[1A\u001b[2K\u001b[1A\u001b[2K\u001b[0Gboto3                                               62.2kB @  68.4kB/s  0.1s\n",
      "iniconfig                                           11.1kB @  12.1kB/s  0.1s\n",
      "tomli                                               15.9kB @  17.3kB/s  0.1s\n",
      "chardet                                            202.6kB @ 206.7kB/s  0.1s\n",
      "docutils                                           756.0kB @ 767.8kB/s  0.1s\n",
      "[+] 1.0s\n",
      "Downloading  (5) ━━━━━━━━━━━━╸\u001b[33m╸\u001b[0m\u001b[90m━━━━━━━━━\u001b[0m  18.7MB aioeasywebdav              0.9s\n",
      "Extracting   (3) ━━━━━━━━━━━━━╸\u001b[33m╸\u001b[0m\u001b[90m━━━━━━━━\u001b[0m      53 chardet                    0.8s\u001b[2K\u001b[1A\u001b[2K\u001b[1A\u001b[2K\u001b[0Gaioeasywebdav                                       18.4kB @  18.2kB/s  0.1s\n",
      "aiohttp                                            640.7kB @ 629.7kB/s  0.1s\n",
      "veracitools                                          6.1kB @   5.9kB/s  0.0s\n",
      "prettytable                                         29.5kB @  28.0kB/s  0.0s\n",
      "tabulate                                            35.9kB @  33.4kB/s  0.1s\n",
      "jmespath                                            21.0kB @  19.3kB/s  0.1s\n",
      "[+] 1.1s\n",
      "Downloading  (5) ━━━━━━━━━━━━━╸\u001b[33m━╸\u001b[0m\u001b[90m━━━━━━━\u001b[0m  19.4MB coin-or-clp                1.0s\n",
      "Extracting   (6) ━━━━━━━━━━━━━╸\u001b[33m━━╸\u001b[0m\u001b[90m━━━━━━\u001b[0m      56 aiohttp                    0.9s\u001b[2K\u001b[1A\u001b[2K\u001b[1A\u001b[2K\u001b[0Gdropbox                                            979.1kB @ 887.5kB/s  0.1s\n",
      "libcrc32c                                           20.4kB @  18.1kB/s  0.1s\n",
      "googleapis-common-protos                           121.0kB @ 106.6kB/s  0.0s\n",
      "coin-or-clp                                          1.2MB @   1.0MB/s  0.1s\n",
      "google-cloud-storage                                85.1kB @  72.4kB/s  0.0s\n",
      "[+] 1.2s\n",
      "Downloading  (5) ━━━━━━━━━━━━━━╸\u001b[33m━╸\u001b[0m\u001b[90m━━━━━━\u001b[0m  21.8MB grpcio                     1.1s\n",
      "Extracting   (7) ━━━━━━━━━━━━━━━╸\u001b[33m━╸\u001b[0m\u001b[90m━━━━━\u001b[0m      60 aiohttp                    1.0s\u001b[2K\u001b[1A\u001b[2K\u001b[1A\u001b[2K\u001b[0Gsnakemake-minimal                                  262.8kB @ 215.7kB/s  0.1s\n",
      "pyu2f                                               31.9kB @  26.1kB/s  0.1s\n",
      "stone                                              149.0kB @ 121.6kB/s  0.1s\n",
      "s3transfer                                          77.8kB @  63.0kB/s  0.3s\n",
      "grpcio                                             839.1kB @ 673.7kB/s  0.3s\n",
      "peppy                                               32.7kB @  25.8kB/s  0.0s\n",
      "throttler                                           12.3kB @   9.6kB/s  0.0s\n",
      "[+] 1.3s\n",
      "Downloading  (5) ━━━━━━━━━━━━━━━━╸\u001b[33m╸\u001b[0m\u001b[90m━━━━━\u001b[0m  23.2MB datrie                     1.2s\n",
      "Extracting   (6) ━━━━━━━━━━━━━━━━━╸\u001b[33m━╸\u001b[0m\u001b[90m━━━\u001b[0m      68 grpc-cpp                   1.1s\u001b[2K\u001b[1A\u001b[2K\u001b[1A\u001b[2K\u001b[0Gparamiko                                           159.0kB @ 121.5kB/s  0.0s\n",
      "python-irodsclient                                 155.2kB @ 114.3kB/s  0.0s\n",
      "protobuf                                           344.2kB @ 249.4kB/s  0.2s\n",
      "pulp                                               126.1kB @  90.3kB/s  0.1s\n",
      "[+] 1.4s\n",
      "Downloading  (5) ━━━━━━━━━━━━━━━━╸\u001b[33m╸\u001b[0m\u001b[90m━━━━━\u001b[0m  24.1MB datrie                     1.3s\n",
      "Extracting   (4) ━━━━━━━━━━━━━━━━━━╸\u001b[33m━╸\u001b[0m\u001b[90m━━\u001b[0m      73 grpc-cpp                   1.2s\u001b[2K\u001b[1A\u001b[2K\u001b[1A\u001b[2K\u001b[0Ggoogle-resumable-media                              45.6kB @  32.3kB/s  0.1s\n",
      "pyasn1                                              62.9kB @  44.3kB/s  0.0s\n",
      "datrie                                             146.2kB @ 102.6kB/s  0.2s\n",
      "pysftp                                              15.5kB @  10.8kB/s  0.0s\n",
      "stopit                                              16.1kB @  11.0kB/s  0.0s\n",
      "pynacl                                               1.4MB @ 941.3kB/s  0.3s\n",
      "[+] 1.5s\n",
      "Downloading  (2) ━━━━━━━━━━━━━━━━━╸\u001b[33m━━━━━\u001b[0m  25.7MB botocore                   1.4s\n",
      "Extracting   (4) ━━━━━━━━━━━━━━━━━━━━╸\u001b[33m━━\u001b[0m      79 grpc-cpp                   1.3s\u001b[2K\u001b[1A\u001b[2K\u001b[1A\u001b[2K\u001b[0G[+] 1.6s\n",
      "Downloading  (2) ━━━━━━━━━━━━━━━━━╸\u001b[33m━━━━━\u001b[0m  25.7MB botocore                   1.5s\n",
      "Extracting   (2) ━━━━━━━━━━━━━━━━━━━━╸\u001b[33m━━\u001b[0m      82 grpc-cpp                   1.4s\u001b[2K\u001b[1A\u001b[2K\u001b[1A\u001b[2K\u001b[0G[+] 1.7s\n",
      "Downloading  (2) ━━━━━━━━━━━━━━━━━━╸\u001b[33m━━━━\u001b[0m  26.8MB botocore                   1.6s\n",
      "Extracting   (1) ━━━━━━━━━━━━━━━━━━━━━╸\u001b[33m━\u001b[0m      83 grpc-cpp                   1.5s\u001b[2K\u001b[1A\u001b[2K\u001b[1A\u001b[2K\u001b[0Gbotocore                                             2.9MB @   1.7MB/s  0.3s\n",
      "[+] 1.8s\n",
      "Downloading  (1) ━━━━━━━━━━━━━━━━━━━━━╸\u001b[33m━\u001b[0m  30.1MB libprotobuf                1.7s\n",
      "Extracting   (1) ━━━━━━━━━━━━━━━━━━━━━╸\u001b[33m━\u001b[0m      84 botocore                   1.6s\u001b[2K\u001b[1A\u001b[2K\u001b[1A\u001b[2K\u001b[0Glibprotobuf                                          2.7MB @   1.4MB/s  0.5s\n",
      "[+] 1.9s\n",
      "Downloading      ━━━━━━━━━━━━━━━━━━━━━━━  31.2MB                            1.8s\n",
      "Extracting   (2) ━━━━━━━━━━━━━━━━━━━━━╸\u001b[33m━\u001b[0m      84 botocore                   1.7s\u001b[2K\u001b[1A\u001b[2K\u001b[1A\u001b[2K\u001b[0G[+] 2.0s\n",
      "Downloading      ━━━━━━━━━━━━━━━━━━━━━━━  31.2MB                            1.8s\n",
      "Extracting   (2) ━━━━━━━━━━━━━━━━━━━━━╸\u001b[33m━\u001b[0m      84 botocore                   1.8s\u001b[2K\u001b[1A\u001b[2K\u001b[1A\u001b[2K\u001b[0G[+] 2.1s\n",
      "Downloading      ━━━━━━━━━━━━━━━━━━━━━━━  31.2MB                            1.8s\n",
      "Extracting   (2) ━━━━━━━━━━━━━━━━━━━━━╸\u001b[33m━\u001b[0m      84 botocore                   1.9s\u001b[2K\u001b[1A\u001b[2K\u001b[1A\u001b[2K\u001b[0G[+] 2.2s\n",
      "Downloading      ━━━━━━━━━━━━━━━━━━━━━━━  31.2MB                            1.8s\n",
      "Extracting   (2) ━━━━━━━━━━━━━━━━━━━━━╸\u001b[33m━\u001b[0m      84 libprotobuf                2.0s\u001b[2K\u001b[1A\u001b[2K\u001b[1A\u001b[2K\u001b[0G[+] 2.3s\n",
      "Downloading      ━━━━━━━━━━━━━━━━━━━━━━━  31.2MB                            1.8s\n",
      "Extracting   (1) ━━━━━━━━━━━━━━━━━━━━━╸\u001b[33m━\u001b[0m      85 botocore                   2.1s\u001b[2K\u001b[1A\u001b[2K\u001b[1A\u001b[2K\u001b[0G[+] 2.4s\n",
      "Downloading      ━━━━━━━━━━━━━━━━━━━━━━━  31.2MB                            1.8s\n",
      "Extracting   (1) ━━━━━━━━━━━━━━━━━━━━━╸\u001b[33m━\u001b[0m      85 botocore                   2.2s\u001b[2K\u001b[1A\u001b[2K\u001b[1A\u001b[2K\u001b[0G\u001b[?25h\n",
      "Downloading and Extracting Packages\n",
      "\n",
      "Preparing transaction: done\n",
      "Verifying transaction: done\n",
      "Executing transaction: done\n"
     ]
    }
   ],
   "source": [
    "! mamba install -y -c conda-forge -c bioconda snakemake"
   ]
  },
  {
   "cell_type": "markdown",
   "id": "d7bf8ff8-486b-4efd-9caf-15fc437595ea",
   "metadata": {},
   "source": [
    "**If you already completed Tutorial 1, you should be able to skip to Step 6: Snakemake Configs**"
   ]
  },
  {
   "cell_type": "markdown",
   "id": "43d67299-cf08-4df0-99a3-aee8c761248a",
   "metadata": {},
   "source": [
    "### STEP 2: Create directories that will be used in our analysis"
   ]
  },
  {
   "cell_type": "code",
   "execution_count": 4,
   "id": "773ba697-01f2-487d-b7ff-9885959b85cb",
   "metadata": {},
   "outputs": [
    {
     "name": "stdout",
     "output_type": "stream",
     "text": [
      "/home/jupyter/Untitled Folder\n"
     ]
    }
   ],
   "source": [
    "!echo $PWD\n",
    "!mkdir -p data\n",
    "!mkdir -p data/raw_fastq\n",
    "!mkdir -p data/trimmed\n",
    "!mkdir -p data/reference\n",
    "!mkdir -p data/fastqc\n",
    "!mkdir -p envs"
   ]
  },
  {
   "cell_type": "markdown",
   "id": "bb0ce8d5-4b96-4e97-88ed-44e8e85f4fc0",
   "metadata": {},
   "source": [
    "### STEP 3: Copy FASTQ Files\n",
    "In order for this tutorial to run quickly, we will only analyze 50,000 reads from a sample from both sample groupsinstead of analyzing all the reads from all six samples. These files have been posted on a Google Storage Bucket that we made publicly accessible.\n"
   ]
  },
  {
   "cell_type": "code",
   "execution_count": 8,
   "id": "db364248-e608-47c9-ab82-b5eab24ccfb0",
   "metadata": {},
   "outputs": [
    {
     "name": "stdout",
     "output_type": "stream",
     "text": [
      "Copying gs://rnaseq-myco-bucket/truncated-reads/SRR13349128_2.fastq...\n",
      "Copying gs://rnaseq-myco-bucket/truncated-reads/SRR13349128_1.fastq...          \n",
      "Copying gs://rnaseq-myco-bucket/truncated-reads/SRR13349122_2.fastq...\n",
      "Copying gs://rnaseq-myco-bucket/truncated-reads/SRR13349122_1.fastq...          \n",
      "- [4/5 files][ 33.0 MiB/ 33.0 MiB]  99% Done                                    \r"
     ]
    }
   ],
   "source": [
    "! gsutil -m cp -r gs://rnaseq-myco-bucket/truncated-reads/* data/raw_fastq"
   ]
  },
  {
   "cell_type": "markdown",
   "id": "ec692c28-f549-43af-bbdf-3c4266fb59ae",
   "metadata": {},
   "source": [
    "### STEP 4: Copy reference transcriptome files that will be used by Salmon\n",
    "Salmon is a tool that aligns RNA-Seq reads to a set of transcripts rather than the entire genome."
   ]
  },
  {
   "cell_type": "code",
   "execution_count": 9,
   "id": "263c3e9c-4fc2-4945-a639-e1079e1aff5c",
   "metadata": {},
   "outputs": [
    {
     "name": "stdout",
     "output_type": "stream",
     "text": [
      "Copying gs://rnaseq-myco-bucket/reference/M_chelonae_transcripts.fasta...\n",
      "/ [1/1 files][  9.4 MiB/  9.4 MiB] 100% Done                                    \n",
      "Operation completed over 1 objects/9.4 MiB.                                      \n",
      "Copying gs://rnaseq-myco-bucket/reference/decoys.txt...\n",
      "/ [1/1 files][   14.0 B/   14.0 B] 100% Done                                    \n",
      "Operation completed over 1 objects/14.0 B.                                       \n"
     ]
    }
   ],
   "source": [
    "! gsutil -m cp -r gs://rnaseq-myco-bucket/reference/M_chelonae_transcripts.fasta data/reference/M_chelonae_transcripts.fasta\n",
    "! gsutil -m cp -r gs://rnaseq-myco-bucket/reference/decoys.txt data/reference/decoys.txt"
   ]
  },
  {
   "cell_type": "markdown",
   "id": "ea2d17cb-dff6-45d3-9aef-3ec6203508f6",
   "metadata": {
    "tags": []
   },
   "source": [
    "### STEP 5: Copy data file for Trimmomatic"
   ]
  },
  {
   "cell_type": "code",
   "execution_count": 10,
   "id": "7200cafc-c816-48f1-819c-dd3c2ce34de3",
   "metadata": {
    "tags": []
   },
   "outputs": [
    {
     "name": "stdout",
     "output_type": "stream",
     "text": [
      "Copying gs://rnaseq-myco-bucket/reference/TruSeq3-PE.fa...\n",
      "/ [1/1 files][   95.0 B/   95.0 B] 100% Done                                    \n",
      "Operation completed over 1 objects/95.0 B.                                       \n"
     ]
    }
   ],
   "source": [
    "! gsutil -m cp -r gs://rnaseq-myco-bucket/reference/TruSeq3-PE.fa ."
   ]
  },
  {
   "cell_type": "markdown",
   "id": "5ac668db-7851-418e-9b1e-0a2c4abbab6e",
   "metadata": {},
   "source": [
    "gs://nigms-sandbox/me-inbre-rnaseq-pipelinev2/envs/*### STEP 6: Download data and config files that will be used in our snakemake environment\n",
    "\n",
    "Next download config files for our snakemake environment, as well as data files which we will analyze."
   ]
  },
  {
   "cell_type": "markdown",
   "id": "590fb3d9-2f61-4ad1-a180-7e59ac408016",
   "metadata": {},
   "source": [
    "### STEP 6: Copy config files for Snakemake\n"
   ]
  },
  {
   "cell_type": "code",
   "execution_count": 12,
   "id": "a227a36a-a398-49f5-b497-7405574b018b",
   "metadata": {},
   "outputs": [
    {
     "name": "stdout",
     "output_type": "stream",
     "text": [
      "Copying gs://rnaseq-myco-bucket/snakemake/config.yaml...\n",
      "/ [1 files][   67.0 B/   67.0 B]                                                \n",
      "Operation completed over 1 objects/67.0 B.                                       \n",
      "Copying gs://rnaseq-myco-bucket/snakemake/snakefile...\n",
      "/ [1 files][  3.4 KiB/  3.4 KiB]                                                \n",
      "Operation completed over 1 objects/3.4 KiB.                                      \n",
      "Copying gs://rnaseq-myco-bucket/snakemake/envs/trimmomatic.yaml...\n",
      "Copying gs://rnaseq-myco-bucket/snakemake/envs/fastqc.yaml...                   \n",
      "Copying gs://rnaseq-myco-bucket/snakemake/envs/bwa.yaml...                      \n",
      "Copying gs://rnaseq-myco-bucket/snakemake/envs/fastqc_old.yaml...\n",
      "Copying gs://rnaseq-myco-bucket/snakemake/envs/samtools.yaml...                 \n",
      "Copying gs://rnaseq-myco-bucket/snakemake/envs/sra-tools.yaml...                \n",
      "Copying gs://rnaseq-myco-bucket/snakemake/envs/trinity.yaml...                  \n",
      "Copying gs://rnaseq-myco-bucket/snakemake/envs/multiqc.yaml...                  \n",
      "Copying gs://rnaseq-myco-bucket/snakemake/envs/salmon.yaml...\n",
      "/ [9/9 files][  864.0 B/  864.0 B] 100% Done                                    \n",
      "Operation completed over 9 objects/864.0 B.                                      \n"
     ]
    }
   ],
   "source": [
    "# Copy config and data files\n",
    "! mkdir envs\n",
    "! gsutil cp  gs://rnaseq-myco-bucket/snakemake/config.yaml .\n",
    "! gsutil cp  gs://rnaseq-myco-bucket/snakemake/snakefile .\n",
    "! gsutil -m cp  gs://rnaseq-myco-bucket/snakemake/envs/*.yaml envs/"
   ]
  },
  {
   "cell_type": "markdown",
   "id": "c64efb6e-cf92-4c6f-af76-d60c9a10ed59",
   "metadata": {},
   "source": [
    "#### Explanation of config files\n",
    "\n",
    "Snakemake is unique in that it uses config files to manage workflows in the form of 'yaml' files, as well as a 'snakefile'.\n",
    "\n",
    "Below is a brief example of some of the yaml config files:"
   ]
  },
  {
   "cell_type": "code",
   "execution_count": 13,
   "id": "c648b302-f125-4dd6-b4e7-0d371e65b81d",
   "metadata": {},
   "outputs": [
    {
     "name": "stdout",
     "output_type": "stream",
     "text": [
      "The config.yaml file contains our sample names:\n",
      "\n",
      " Config.yaml\n",
      "samples:\n",
      "    SRR13349122: SRR13349122\n",
      "    SRR13349128: SRR13349128\n",
      "\n",
      "\n",
      "The env folder contains information pertaining to packages to be used in the environment, \n",
      "as well as their version, for example, here is the 'envs/fastqc.yaml' file:\n",
      "\n",
      " Fastqc.Yaml\n",
      "channels:\n",
      "  - bioconda\n",
      "  - conda-forge\n",
      "  - defaults\n",
      "dependencies:\n",
      "  - fastqc ==0.11.9\n",
      "  - multiqc ==1.12\n",
      "\n"
     ]
    }
   ],
   "source": [
    "!printf \"The config.yaml file contains our sample names:\\n\\n Config.yaml\\n\"\n",
    "!cat config.yaml\n",
    "!printf \"\\n\\nThe env folder contains information pertaining to packages to be used in the environment, \\nas well as their version, for example, here is the 'envs/fastqc.yaml' file:\\n\\n Fastqc.Yaml\\n\"\n",
    "!cat envs/fastqc.yaml"
   ]
  },
  {
   "cell_type": "markdown",
   "id": "ec2c0273-c7f1-4aee-bdf3-43d5773cf2fa",
   "metadata": {},
   "source": [
    "### STEP 7: Run snakemake on our snakefile\n",
    "\n",
    "Aside from the .yaml config files which information about software, dependencies, and versions -- snakemake uses a snakefile which contains information about a workflow.\n",
    "\n",
    "This can be a powerful tool as it allows one to operate and think in terms of workflows instead of individual steps. \n",
    "\n",
    "Feel free to open the snakefile to look at it further. It is composed of 'rules' we have created.\n",
    "\n",
    "Snakefiles work largely based on inputs. For a given input, there is an associated 'rule' that runs.\n",
    "\n",
    "Snakefiles may take a while to get the idea of what's going on, but in simplest terms here we take an input of .fastq files, and based on the snakefile rules we created, those fastq files are run through the entire workflow of tutorial one.\n"
   ]
  },
  {
   "cell_type": "code",
   "execution_count": 15,
   "id": "463c59d0-1bd4-4d6e-a293-0acd9ea45b07",
   "metadata": {},
   "outputs": [
    {
     "name": "stdout",
     "output_type": "stream",
     "text": [
      "SRR13349122_1.fastq  SRR13349128_1.fastq\n",
      "SRR13349122_2.fastq  SRR13349128_2.fastq\n"
     ]
    }
   ],
   "source": [
    "ls data/raw_fastq"
   ]
  },
  {
   "cell_type": "code",
   "execution_count": 16,
   "id": "bee32318-33df-43b2-98bc-5eb091ceae59",
   "metadata": {
    "scrolled": true,
    "tags": []
   },
   "outputs": [
    {
     "name": "stdout",
     "output_type": "stream",
     "text": [
      "{'SRR13349122': 'SRR13349122', 'SRR13349128': 'SRR13349128'}\n",
      "\u001b[33mBuilding DAG of jobs...\u001b[0m\n",
      "\u001b[33mCreating conda environment envs/fastqc.yaml...\u001b[0m\n",
      "\u001b[33mDownloading and installing remote packages.\u001b[0m\n",
      "\u001b[33mEnvironment for /home/jupyter/Untitled Folder/envs/fastqc.yaml created (location: .snakemake/conda/4c2df237580278961cb95ee28aa5c3d9_)\u001b[0m\n",
      "\u001b[33mCreating conda environment envs/multiqc.yaml...\u001b[0m\n",
      "\u001b[33mDownloading and installing remote packages.\u001b[0m\n",
      "\u001b[33mEnvironment for /home/jupyter/Untitled Folder/envs/multiqc.yaml created (location: .snakemake/conda/16880ab43432da359713b046c214761f_)\u001b[0m\n",
      "\u001b[33mCreating conda environment envs/trimmomatic.yaml...\u001b[0m\n",
      "\u001b[33mDownloading and installing remote packages.\u001b[0m\n",
      "\u001b[33mEnvironment for /home/jupyter/Untitled Folder/envs/trimmomatic.yaml created (location: .snakemake/conda/93a920384b661a8590cde71ba73fbfc4_)\u001b[0m\n",
      "\u001b[33mCreating conda environment envs/salmon.yaml...\u001b[0m\n",
      "\u001b[33mDownloading and installing remote packages.\u001b[0m\n",
      "\u001b[33mEnvironment for /home/jupyter/Untitled Folder/envs/salmon.yaml created (location: .snakemake/conda/4c22369f5be637b87cf83071373a0027_)\u001b[0m\n",
      "\u001b[33mUsing shell: /usr/bin/bash\u001b[0m\n",
      "\u001b[33mProvided cores: 4\u001b[0m\n",
      "\u001b[33mRules claiming more threads will be scaled down.\u001b[0m\n",
      "\u001b[33mJob stats:\n",
      "job                   count    min threads    max threads\n",
      "------------------  -------  -------------  -------------\n",
      "all                       1              1              1\n",
      "fastqc_trimmed            1              4              4\n",
      "multiqc_trimmed           1              1              1\n",
      "salmon_index              1              4              4\n",
      "salmon_quant_reads        2              2              2\n",
      "trimmomatic_pe_fq         2              4              4\n",
      "total                     8              1              4\n",
      "\u001b[0m\n",
      "\u001b[33mSelect jobs to execute...\u001b[0m\n",
      "\u001b[32m\u001b[0m\n",
      "\u001b[32m[Thu Oct 12 18:34:31 2023]\u001b[0m\n",
      "\u001b[32mrule trimmomatic_pe_fq:\n",
      "    input: data/raw_fastq/SRR13349122_1.fastq, data/raw_fastq/SRR13349122_2.fastq\n",
      "    output: data/trimmed/SRR13349122_trimmed_1.fastq, data/trimmed/SRR13349122_trimmed_2.fastq, data/trimmed/SRR13349122_trimmed_1.unpaired.fastq, data/trimmed/SRR13349122_trimmed_2.unpaired.fastq\n",
      "    jobid: 1\n",
      "    reason: Forced execution\n",
      "    wildcards: sample=SRR13349122\n",
      "    threads: 4\n",
      "    resources: tmpdir=/var/tmp\u001b[0m\n",
      "\u001b[32m\u001b[0m\n",
      "\u001b[33mActivating conda environment: .snakemake/conda/93a920384b661a8590cde71ba73fbfc4_\u001b[0m\n",
      "/home/jupyter/Untitled Folder/.snakemake/conda/93a920384b661a8590cde71ba73fbfc4_/bin/trimmomatic: line 6: warning: setlocale: LC_ALL: cannot change locale (en_US.UTF-8): No such file or directory\n",
      "/home/jupyter/Untitled Folder/.snakemake/conda/93a920384b661a8590cde71ba73fbfc4_/bin/trimmomatic: line 60: /home/jupyter/Untitled: No such file or directory\n",
      "\u001b[32m[Thu Oct 12 18:34:32 2023]\u001b[0m\n",
      "\u001b[31mError in rule trimmomatic_pe_fq:\n",
      "    jobid: 1\n",
      "    input: data/raw_fastq/SRR13349122_1.fastq, data/raw_fastq/SRR13349122_2.fastq\n",
      "    output: data/trimmed/SRR13349122_trimmed_1.fastq, data/trimmed/SRR13349122_trimmed_2.fastq, data/trimmed/SRR13349122_trimmed_1.unpaired.fastq, data/trimmed/SRR13349122_trimmed_2.unpaired.fastq\n",
      "    conda-env: /home/jupyter/Untitled Folder/.snakemake/conda/93a920384b661a8590cde71ba73fbfc4_\n",
      "    shell:\n",
      "        trimmomatic PE -threads 4 data/raw_fastq/SRR13349122_1.fastq data/raw_fastq/SRR13349122_2.fastq data/trimmed/SRR13349122_trimmed_1.fastq data/trimmed/SRR13349122_trimmed_1.unpaired.fastq data/trimmed/SRR13349122_trimmed_2.fastq data/trimmed/SRR13349122_trimmed_2.unpaired.fastq ILLUMINACLIP:TruSeq3-PE.fa:2:30:10:2:keepBothReads LEADING:3 TRAILING:3 MINLEN:36\n",
      "        (one of the commands exited with non-zero exit code; note that snakemake uses bash strict mode!)\n",
      "\u001b[0m\n",
      "\u001b[33mShutting down, this might take some time.\u001b[0m\n",
      "\u001b[31mExiting because a job execution failed. Look above for error message\u001b[0m\n",
      "\u001b[33mComplete log: .snakemake/log/2023-10-12T183226.225004.snakemake.log\u001b[0m\n"
     ]
    }
   ],
   "source": [
    "! conda config --set channel_priority strict\n",
    "! snakemake --cores --use-conda --forceall"
   ]
  },
  {
   "cell_type": "markdown",
   "id": "df9deb0a-1030-4839-aa16-37c3b32a2c87",
   "metadata": {},
   "source": [
    "### STEP 8: Report the top 10 most highly expressed genes in the samples."
   ]
  },
  {
   "cell_type": "markdown",
   "id": "d50f9bd2-dbd2-467f-a9b6-313e63ad304b",
   "metadata": {},
   "source": [
    "Top 10 most highly expressed genes in the wild-type sample. The level of expression is reported in the Transcripts Per Million (`TPM`) and number of reads (`NumReads`) fields:  \n",
    "`Name    Length  EffectiveLength TPM     NumReads`\n"
   ]
  },
  {
   "cell_type": "code",
   "execution_count": 17,
   "id": "7776f671-30a0-4ba8-a9cc-e3434d40cc48",
   "metadata": {},
   "outputs": [
    {
     "name": "stdout",
     "output_type": "stream",
     "text": [
      "BB28_RS20665\t1293\t1044.000\t5646.382017\t55.000\n",
      "BB28_RS03075\t1626\t1377.000\t3191.229092\t41.000\n",
      "BB28_RS07370\t9255\t9006.000\t440.329564\t37.000\n",
      "BB28_RS20690\t10377\t10128.000\t380.966573\t36.000\n",
      "BB28_RS19405\t3948\t3699.000\t1043.100692\t36.000\n",
      "BB28_RS18585\t1305\t1056.000\t2841.856734\t28.000\n",
      "BB28_RS20685\t7731\t7482.000\t386.771196\t27.000\n",
      "BB28_RS19310\t1194\t945.000\t2721.996112\t24.000\n",
      "BB28_RS22260\t1836\t1587.000\t1553.312992\t23.000\n",
      "BB28_RS09805\t1437\t1188.000\t2075.006502\t23.000\n",
      "sort: write failed: 'standard output': Broken pipe\n",
      "sort: write error\n"
     ]
    }
   ],
   "source": [
    "!sort -nrk 5,5 data/quants/SRR13349122_quant/quant.sf | head -10"
   ]
  },
  {
   "cell_type": "markdown",
   "id": "678efdde-1782-4481-9240-054c34528163",
   "metadata": {},
   "source": [
    "Top 10 most highly expressed genes in the double lysogen sample.\n"
   ]
  },
  {
   "cell_type": "code",
   "execution_count": 18,
   "id": "1ceee200-b741-4954-b950-85edec98eb90",
   "metadata": {},
   "outputs": [
    {
     "name": "stdout",
     "output_type": "stream",
     "text": [
      "BB28_RS20665\t1293\t1044.000\t17163.199992\t107.000\n",
      "BB28_RS18585\t1305\t1056.000\t5550.333897\t35.000\n",
      "BB28_RS13330\t2790\t2541.000\t2174.824699\t33.000\n",
      "BB28_RS14905\t972\t723.000\t6253.749084\t27.000\n",
      "BB28_RS22260\t1836\t1587.000\t2004.895111\t19.000\n",
      "BB28_RS18315\t1767\t1518.000\t2096.026708\t19.000\n",
      "BB28_RS20685\t7731\t7482.000\t380.492585\t17.000\n",
      "BB28_RS20690\t10377\t10128.000\t248.017626\t15.000\n",
      "BB28_RS03075\t1626\t1377.000\t1824.199372\t15.000\n",
      "BB28_RS11085\t1278\t1029.000\t2278.387793\t14.000\n",
      "sort: write failed: 'standard output': Broken pipe\n",
      "sort: write error\n"
     ]
    }
   ],
   "source": [
    "!sort -nrk 5,5 data/quants/SRR13349128_quant/quant.sf | head -10"
   ]
  },
  {
   "cell_type": "markdown",
   "id": "50169f62-e707-4d84-b301-ded51a704130",
   "metadata": {},
   "source": [
    "### STEP 9: Report the expression of a putative acyl-ACP desaturase (BB28_RS16545) that was downregulated in the double lysogen relative to wild-type\n",
    "A acyl-transferase was reported to be downregulated in the double lysogen as shown in the table of the top 20 upregulated and downregulated genes from the paper describing the study.\n",
    "![RNA-Seq workflow](images/table-cushman.png)"
   ]
  },
  {
   "cell_type": "markdown",
   "id": "5b3794b0-a477-45fa-aa51-4414d7671441",
   "metadata": {},
   "source": [
    "Use `grep` to report the expression in the wild-type sample. The fields in the Salmon `quant.sf` file are as follows. The level of expression is reported in the Transcripts Per Million (`TPM`) and number of reads (`NumReads`) fields:  \n",
    "`Name    Length  EffectiveLength TPM     NumReads`"
   ]
  },
  {
   "cell_type": "code",
   "execution_count": 19,
   "id": "a3cb9340-682b-4177-837d-7d803a9775a5",
   "metadata": {},
   "outputs": [
    {
     "name": "stdout",
     "output_type": "stream",
     "text": [
      "BB28_RS16545\t987\t738.000\t580.913806\t4.000\n"
     ]
    }
   ],
   "source": [
    "!grep 'BB28_RS16545' data/quants/SRR13349122_quant/quant.sf"
   ]
  },
  {
   "cell_type": "markdown",
   "id": "79ba6401-261d-43e9-b831-ef76122da623",
   "metadata": {},
   "source": [
    "Use `grep` to report the expression in the double lysogen sample. The fields in the Salmon `quant.sf` file are as follows. The level of expression is reported in the Transcripts Per Million (`TPM`) and number of reads (`NumReads`) fields:  \n",
    "`Name    Length  EffectiveLength TPM     NumReads`"
   ]
  },
  {
   "cell_type": "code",
   "execution_count": 20,
   "id": "745ea1c5-79d3-481c-9359-6e0a93b9a286",
   "metadata": {},
   "outputs": [
    {
     "name": "stdout",
     "output_type": "stream",
     "text": [
      "BB28_RS16545\t987\t738.000\t226.912606\t1.000\n"
     ]
    }
   ],
   "source": [
    "!grep 'BB28_RS16545' data/quants/SRR13349128_quant/quant.sf"
   ]
  },
  {
   "cell_type": "markdown",
   "id": "fa372596-3377-4443-a325-e68bfa44c079",
   "metadata": {
    "tags": []
   },
   "source": [
    "## <a name=\"workflow\">Additional Workflows</a>"
   ]
  },
  {
   "cell_type": "markdown",
   "id": "7ac0bc9c-ff37-4ca1-b094-68f591d993a6",
   "metadata": {},
   "source": [
    "Now that you have read counts per gene, feel free to explore the R workflow which creates plots and analyses using these readcount files, or try other alternate workflows for creating read count files, such as the standard short or extended tutorials."
   ]
  },
  {
   "cell_type": "markdown",
   "id": "08a552e6-e8fb-49da-a223-34c370054910",
   "metadata": {},
   "source": [
    "\n",
    "[Workflow One:](Tutorial_1.ipynb) A short introduction to downloading and mapping sequences to a transcriptome using Trimmomatic and Salmon. Here is a link to the YouTube video demonstrating the tutorial: <https://youtu.be/ChGfBR4do_Y>.\n",
    "\n",
    "[Workflow One (Extended):](Tutorial_1B_Extended.ipynb) An extended version of workflow one. Once you have got your feet wet, you can retry workflow one with this extended version that covers the entire dataset, and includes elaboration such as using SRA tools for sequence downloading, and examples of running batches of fastq files through the pipeline. This workflow may take around an hour to run.\n",
    "\n",
    "[Workflow One (Using Snakemake):](Tutorial_2_Snakemake.ipynb) Using snakemake to run workflow one.\n",
    "\n",
    "[Workflow Two (DEG Analysis):](Tutorial_3_DEG_Analysis.ipynb) Using Deseq2 and R to conduct clustering and differential gene expression analysis.\n"
   ]
  },
  {
   "cell_type": "markdown",
   "id": "fcf924fb-4301-43ee-b3d5-377c5623c146",
   "metadata": {},
   "source": [
    "![RNA-Seq workflow](images/RNA-Seq_Notebook_Homepage.png)"
   ]
  }
 ],
 "metadata": {
  "environment": {
   "kernel": "python3",
   "name": ".m112",
   "type": "gcloud",
   "uri": "gcr.io/deeplearning-platform-release/:m112"
  },
  "kernelspec": {
   "display_name": "Python 3",
   "language": "python",
   "name": "python3"
  },
  "language_info": {
   "codemirror_mode": {
    "name": "ipython",
    "version": 3
   },
   "file_extension": ".py",
   "mimetype": "text/x-python",
   "name": "python",
   "nbconvert_exporter": "python",
   "pygments_lexer": "ipython3",
   "version": "3.7.12"
  }
 },
 "nbformat": 4,
 "nbformat_minor": 5
}
